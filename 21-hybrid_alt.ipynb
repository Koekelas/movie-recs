{
 "cells": [
  {
   "cell_type": "markdown",
   "metadata": {},
   "source": [
    "# Hybrid varianten\n",
    "- Variant 1: baseline met extra dense laag en meer dropout"
   ]
  },
  {
   "cell_type": "code",
   "execution_count": 1,
   "metadata": {},
   "outputs": [],
   "source": [
    "from functools import reduce\n",
    "import pickle\n",
    "import numpy as np\n",
    "import pandas as pd\n",
    "import matplotlib.pyplot as plt\n",
    "\n",
    "from sklearn.model_selection import train_test_split\n",
    "from sklearn.preprocessing import QuantileTransformer\n",
    "from sklearn.metrics import mean_squared_error, mean_absolute_error\n",
    "from sklearn.metrics import classification_report, roc_curve, auc, confusion_matrix\n",
    "from sklearn.utils.class_weight import compute_sample_weight, compute_class_weight\n",
    "\n",
    "from tensorflow.keras import Input\n",
    "from tensorflow.keras.layers import Flatten, Dot, Concatenate\n",
    "from tensorflow.keras.layers import Embedding, SpatialDropout1D, Dense, Dropout, BatchNormalization\n",
    "from tensorflow.keras.models import load_model, Model\n",
    "from tensorflow.keras.callbacks import EarlyStopping\n",
    "from tensorflow.keras.utils import to_categorical, plot_model\n",
    "\n",
    "pd.set_option('display.max_columns', None)\n",
    "\n",
    "def save(obj, path):\n",
    "    with open(path, 'bw') as file:\n",
    "        pickle.dump(obj, file)\n",
    "\n",
    "def load(path):\n",
    "    with open(path, 'br') as file:\n",
    "        return pickle.load(file)\n",
    "\n",
    "def missing(df):\n",
    "    return df[df.isna().any(axis='columns')]\n",
    "\n",
    "def chain_layers(*layers):\n",
    "    return reduce(lambda output, layer: layer(output), layers)\n",
    "\n",
    "def plot_loss(history):\n",
    "    n_epoch = len(history['loss'])\n",
    "    xs = np.arange(1, n_epoch + 1)\n",
    "    fig, ax = plt.subplots()\n",
    "    ax.set_ylabel('Loss')\n",
    "    ax.set_xlabel('Epoch')\n",
    "    ax.plot(xs, history['loss'], label='Train')\n",
    "    ax.plot(xs, history['val_loss'], label='Validation')\n",
    "    ax.legend()\n",
    "    return fig\n",
    "\n",
    "def plot_acc(history):\n",
    "    n_epoch = len(history['accuracy'])\n",
    "    xs = np.arange(1, n_epoch + 1)\n",
    "    fig, [loss, acc] = plt.subplots(2, 1, sharex=True)\n",
    "    fig.subplots_adjust(hspace=0)\n",
    "    loss.set_ylabel('Loss')\n",
    "    loss.plot(xs, history['loss'], label='Train')\n",
    "    loss.plot(xs, history['val_loss'], label='Validation')\n",
    "    acc.set_xlabel('Epoch')\n",
    "    acc.set_ylabel('Accuracy')\n",
    "    acc.plot(xs, history['accuracy'])\n",
    "    acc.plot(xs, history['val_accuracy'])\n",
    "    fig.legend()\n",
    "    return fig\n",
    "\n",
    "def print_rg_report(y, y_pred):\n",
    "    print(f'MSE = {mean_squared_error(y, y_pred)}\\nMAE = {mean_absolute_error(y, y_pred)}')\n",
    "\n",
    "def plot_preds(y, y_pred):\n",
    "    n_classes = len(np.unique(y))\n",
    "    fig, ax = plt.subplots(figsize=(n_classes, n_classes))\n",
    "    ax.set_xlim(0, n_classes + 1)\n",
    "    ax.set_xticks(np.arange(1, n_classes + 1))\n",
    "    ax.set_xlabel('Actual')\n",
    "    ax.set_ylabel('Predicted')\n",
    "    ax.scatter(y, y_pred, s=64, alpha=1 / 256)\n",
    "    return fig\n",
    "\n",
    "def print_cl_report(y, y_pred):\n",
    "    print(classification_report(y, y_pred))\n",
    "\n",
    "def plot_rocc(y, Y_prob):\n",
    "    n_classes = Y_prob.shape[1]\n",
    "    first_class = (n_classes == 2 and 1) or 0\n",
    "    fig, ax = plt.subplots()\n",
    "    ax.set_xlim(0, 1)\n",
    "    ax.set_ylim(0, 1)\n",
    "    ax.set_xlabel('FPR')\n",
    "    ax.set_ylabel('TPR')\n",
    "    ax.plot([0, 1], [0, 1], \"--\")\n",
    "    for cl in range(first_class, n_classes):\n",
    "        fpr, tpr, _ths = roc_curve(y, Y_prob[:, cl], pos_label=cl)\n",
    "        ax.plot(fpr, tpr, label=f'{cl}, AUC = {auc(fpr, tpr):.2f}')\n",
    "    ax.legend()\n",
    "    return fig\n",
    "\n",
    "def plot_confmat(y, y_pred):\n",
    "    n_classes = len(np.unique(y))\n",
    "    confmat = confusion_matrix(y, y_pred)\n",
    "    max_v = confmat.max()\n",
    "    fig, ax = plt.subplots(figsize=(n_classes, n_classes))\n",
    "    xys = np.arange(n_classes)\n",
    "    ax.set_xticks(xys)\n",
    "    ax.set_yticks(xys)\n",
    "    ax.set_xlabel('Predicted')\n",
    "    ax.set_ylabel('Actual')\n",
    "    ax.imshow(confmat, vmin=max_v * -1, vmax=max_v, cmap='coolwarm')\n",
    "    for actual in range(n_classes):\n",
    "        for predicted in range(n_classes):\n",
    "            ax.text(predicted, actual, confmat[actual, predicted], ha='center', va='center')\n",
    "    return fig"
   ]
  },
  {
   "cell_type": "code",
   "execution_count": 2,
   "metadata": {},
   "outputs": [],
   "source": [
    "movies = pd.read_parquet('data/movies_active.parquet')\n",
    "ratings = pd.read_parquet('data/ratings_active.parquet')\n",
    "users = pd.read_parquet('data/users_active.parquet')"
   ]
  },
  {
   "cell_type": "code",
   "execution_count": 3,
   "metadata": {},
   "outputs": [],
   "source": [
    "n_classes = ratings['rating'].nunique()\n",
    "user_dim, user_voc_size = (1,), users['user_id'].max()\n",
    "movie_dim, movie_voc_size = (1,), movies['movie_id'].max()\n",
    "movie_meta_dim = movies.drop(columns=['movie_id', 'imdb_id', 'title']).shape[1]\n",
    "X_train, X_test, y_train, y_test, Y_train = load('data/train_test_active.pickle')[3:]"
   ]
  },
  {
   "cell_type": "markdown",
   "metadata": {},
   "source": [
    "# Regressie\n",
    "\n",
    "## Variant 1"
   ]
  },
  {
   "cell_type": "code",
   "execution_count": 4,
   "metadata": {},
   "outputs": [
    {
     "name": "stdout",
     "output_type": "stream",
     "text": [
      "Model: \"movies_h_r_1\"\n",
      "__________________________________________________________________________________________________\n",
      "Layer (type)                    Output Shape         Param #     Connected to                     \n",
      "==================================================================================================\n",
      "user_id (InputLayer)            [(None, 1)]          0                                            \n",
      "__________________________________________________________________________________________________\n",
      "movie_id (InputLayer)           [(None, 1)]          0                                            \n",
      "__________________________________________________________________________________________________\n",
      "user_emb (Embedding)            (None, 1, 16)        113968      user_id[0][0]                    \n",
      "__________________________________________________________________________________________________\n",
      "movie_emb (Embedding)           (None, 1, 16)        526688      movie_id[0][0]                   \n",
      "__________________________________________________________________________________________________\n",
      "spatial_dropout1d (SpatialDropo (None, 1, 16)        0           user_emb[0][0]                   \n",
      "__________________________________________________________________________________________________\n",
      "spatial_dropout1d_1 (SpatialDro (None, 1, 16)        0           movie_emb[0][0]                  \n",
      "__________________________________________________________________________________________________\n",
      "flatten (Flatten)               (None, 16)           0           spatial_dropout1d[0][0]          \n",
      "__________________________________________________________________________________________________\n",
      "flatten_1 (Flatten)             (None, 16)           0           spatial_dropout1d_1[0][0]        \n",
      "__________________________________________________________________________________________________\n",
      "movie_meta (InputLayer)         [(None, 30)]         0                                            \n",
      "__________________________________________________________________________________________________\n",
      "concatenate (Concatenate)       (None, 62)           0           flatten[0][0]                    \n",
      "                                                                 flatten_1[0][0]                  \n",
      "                                                                 movie_meta[0][0]                 \n",
      "__________________________________________________________________________________________________\n",
      "dense (Dense)                   (None, 64)           4032        concatenate[0][0]                \n",
      "__________________________________________________________________________________________________\n",
      "dropout (Dropout)               (None, 64)           0           dense[0][0]                      \n",
      "__________________________________________________________________________________________________\n",
      "dense_1 (Dense)                 (None, 64)           4160        dropout[0][0]                    \n",
      "__________________________________________________________________________________________________\n",
      "dropout_1 (Dropout)             (None, 64)           0           dense_1[0][0]                    \n",
      "__________________________________________________________________________________________________\n",
      "dense_2 (Dense)                 (None, 64)           4160        dropout_1[0][0]                  \n",
      "__________________________________________________________________________________________________\n",
      "dropout_2 (Dropout)             (None, 64)           0           dense_2[0][0]                    \n",
      "__________________________________________________________________________________________________\n",
      "dense_3 (Dense)                 (None, 1)            65          dropout_2[0][0]                  \n",
      "==================================================================================================\n",
      "Total params: 653,073\n",
      "Trainable params: 653,073\n",
      "Non-trainable params: 0\n",
      "__________________________________________________________________________________________________\n"
     ]
    }
   ],
   "source": [
    "emb_size = 16\n",
    "\n",
    "user_input = Input(user_dim, name='user_id')\n",
    "user_emb = chain_layers(\n",
    "    user_input,\n",
    "    Embedding(user_voc_size + 1, emb_size, name='user_emb'),\n",
    "    SpatialDropout1D(0.2),\n",
    "    Flatten()\n",
    ")\n",
    "movie_input = Input(movie_dim, name='movie_id')\n",
    "movie_emb = chain_layers(\n",
    "    movie_input,\n",
    "    Embedding(movie_voc_size + 1, emb_size, name='movie_emb'),\n",
    "    SpatialDropout1D(0.2),\n",
    "    Flatten()\n",
    ")\n",
    "movie_meta_input = Input(movie_meta_dim, name='movie_meta')\n",
    "user_movie = chain_layers(\n",
    "    Concatenate()([user_emb, movie_emb, movie_meta_input]),\n",
    "    Dense(64, 'relu'),\n",
    "    Dropout(0.2),\n",
    "    Dense(64, 'relu'),\n",
    "    Dropout(0.2),\n",
    "    Dense(64, 'relu'),\n",
    "    Dropout(0.2),\n",
    "    Dense(1)\n",
    ")\n",
    "movies_h_r_1 = Model([user_input, movie_input, movie_meta_input], user_movie, name='movies_h_r_1')\n",
    "movies_h_r_1.summary()"
   ]
  },
  {
   "cell_type": "code",
   "execution_count": 5,
   "metadata": {},
   "outputs": [
    {
     "name": "stdout",
     "output_type": "stream",
     "text": [
      "Epoch 1/8\n",
      "3011/3011 [==============================] - 46s 15ms/step - loss: 0.7472 - val_loss: 0.4445\n",
      "Epoch 2/8\n",
      "3011/3011 [==============================] - 46s 15ms/step - loss: 0.5071 - val_loss: 0.4366\n",
      "Epoch 3/8\n",
      "3011/3011 [==============================] - 48s 16ms/step - loss: 0.4574 - val_loss: 0.4319\n",
      "Epoch 4/8\n",
      "3011/3011 [==============================] - 48s 16ms/step - loss: 0.4251 - val_loss: 0.4391\n",
      "Epoch 5/8\n",
      "3011/3011 [==============================] - 48s 16ms/step - loss: 0.4046 - val_loss: 0.4293\n",
      "Epoch 6/8\n",
      "3011/3011 [==============================] - 46s 15ms/step - loss: 0.3896 - val_loss: 0.4290\n"
     ]
    }
   ],
   "source": [
    "movies_h_r_1.compile('adam', 'mse')\n",
    "movies_h_r_1_hist = movies_h_r_1.fit(\n",
    "    [X_train['user_id'], X_train['movie_id'], X_train.drop(columns=['user_id', 'movie_id'])], y_train,\n",
    "    batch_size=128, epochs=8, validation_split=0.2,\n",
    "    callbacks=[EarlyStopping(min_delta=0.01, patience=3, restore_best_weights=True)]\n",
    ")"
   ]
  },
  {
   "cell_type": "code",
   "execution_count": 6,
   "metadata": {},
   "outputs": [],
   "source": [
    "movies_h_r_1.save('data/movies_h_r_1.h5')\n",
    "save(movies_h_r_1_hist.history, 'data/movies_h_r_1_history.pickle')"
   ]
  },
  {
   "cell_type": "markdown",
   "metadata": {},
   "source": [
    "### Evalueren"
   ]
  },
  {
   "cell_type": "code",
   "execution_count": 7,
   "metadata": {},
   "outputs": [],
   "source": [
    "movies_h_r_1 = load_model('data/movies_h_r_1.h5')\n",
    "movies_h_r_1_history = load('data/movies_h_r_1_history.pickle')"
   ]
  },
  {
   "cell_type": "code",
   "execution_count": 8,
   "metadata": {},
   "outputs": [
    {
     "data": {
      "image/png": "[encoded data removed]",
      "text/plain": [
       "<Figure size 432x288 with 1 Axes>"
      ]
     },
     "metadata": {
      "needs_background": "light"
     },
     "output_type": "display_data"
    }
   ],
   "source": [
    "plot_loss(movies_h_r_1_history);"
   ]
  },
  {
   "cell_type": "code",
   "execution_count": 9,
   "metadata": {},
   "outputs": [],
   "source": [
    "y_movies_h_r_1_test = movies_h_r_1.predict(\n",
    "    [X_test['user_id'], X_test['movie_id'], X_test.drop(columns=['user_id', 'movie_id'])]\n",
    ")\n",
    "y_movies_h_r_1_train = movies_h_r_1.predict(\n",
    "    [X_train['user_id'], X_train['movie_id'], X_train.drop(columns=['user_id', 'movie_id'])]\n",
    ")"
   ]
  },
  {
   "cell_type": "code",
   "execution_count": 10,
   "metadata": {},
   "outputs": [
    {
     "name": "stdout",
     "output_type": "stream",
     "text": [
      "Test:\n",
      "MSE = 0.4318831598575406\n",
      "MAE = 0.5043810767198577\n",
      "Train:\n",
      "MSE = 0.39076825934570614\n",
      "MAE = 0.47743434748887514\n"
     ]
    }
   ],
   "source": [
    "print('Test:')\n",
    "print_rg_report(y_test, y_movies_h_r_1_test)\n",
    "print('Train:')\n",
    "print_rg_report(y_train, y_movies_h_r_1_train)"
   ]
  },
  {
   "cell_type": "code",
   "execution_count": 11,
   "metadata": {},
   "outputs": [
    {
     "data": {
      "image/png": "[encoded data removed]",
      "text/plain": [
       "<Figure size 360x360 with 1 Axes>"
      ]
     },
     "metadata": {
      "needs_background": "light"
     },
     "output_type": "display_data"
    }
   ],
   "source": [
    "plot_preds(y_test, y_movies_h_r_1_test);"
   ]
  },
  {
   "cell_type": "markdown",
   "metadata": {},
   "source": [
    "# Classificatie\n",
    "\n",
    "## Variant 1"
   ]
  },
  {
   "cell_type": "code",
   "execution_count": 12,
   "metadata": {},
   "outputs": [
    {
     "name": "stdout",
     "output_type": "stream",
     "text": [
      "Model: \"movies_h_c_1\"\n",
      "__________________________________________________________________________________________________\n",
      "Layer (type)                    Output Shape         Param #     Connected to                     \n",
      "==================================================================================================\n",
      "user_id (InputLayer)            [(None, 1)]          0                                            \n",
      "__________________________________________________________________________________________________\n",
      "movie_id (InputLayer)           [(None, 1)]          0                                            \n",
      "__________________________________________________________________________________________________\n",
      "user_emb (Embedding)            (None, 1, 16)        113968      user_id[0][0]                    \n",
      "__________________________________________________________________________________________________\n",
      "movie_emb (Embedding)           (None, 1, 16)        526688      movie_id[0][0]                   \n",
      "__________________________________________________________________________________________________\n",
      "spatial_dropout1d_2 (SpatialDro (None, 1, 16)        0           user_emb[0][0]                   \n",
      "__________________________________________________________________________________________________\n",
      "spatial_dropout1d_3 (SpatialDro (None, 1, 16)        0           movie_emb[0][0]                  \n",
      "__________________________________________________________________________________________________\n",
      "flatten_2 (Flatten)             (None, 16)           0           spatial_dropout1d_2[0][0]        \n",
      "__________________________________________________________________________________________________\n",
      "flatten_3 (Flatten)             (None, 16)           0           spatial_dropout1d_3[0][0]        \n",
      "__________________________________________________________________________________________________\n",
      "movie_meta (InputLayer)         [(None, 30)]         0                                            \n",
      "__________________________________________________________________________________________________\n",
      "concatenate_1 (Concatenate)     (None, 62)           0           flatten_2[0][0]                  \n",
      "                                                                 flatten_3[0][0]                  \n",
      "                                                                 movie_meta[0][0]                 \n",
      "__________________________________________________________________________________________________\n",
      "dense_4 (Dense)                 (None, 64)           4032        concatenate_1[0][0]              \n",
      "__________________________________________________________________________________________________\n",
      "dropout_3 (Dropout)             (None, 64)           0           dense_4[0][0]                    \n",
      "__________________________________________________________________________________________________\n",
      "dense_5 (Dense)                 (None, 64)           4160        dropout_3[0][0]                  \n",
      "__________________________________________________________________________________________________\n",
      "dropout_4 (Dropout)             (None, 64)           0           dense_5[0][0]                    \n",
      "__________________________________________________________________________________________________\n",
      "dense_6 (Dense)                 (None, 64)           4160        dropout_4[0][0]                  \n",
      "__________________________________________________________________________________________________\n",
      "dropout_5 (Dropout)             (None, 64)           0           dense_6[0][0]                    \n",
      "__________________________________________________________________________________________________\n",
      "dense_7 (Dense)                 (None, 5)            325         dropout_5[0][0]                  \n",
      "==================================================================================================\n",
      "Total params: 653,333\n",
      "Trainable params: 653,333\n",
      "Non-trainable params: 0\n",
      "__________________________________________________________________________________________________\n"
     ]
    }
   ],
   "source": [
    "emb_size = 16\n",
    "\n",
    "user_input = Input(user_dim, name='user_id')\n",
    "user_emb = chain_layers(\n",
    "    user_input,\n",
    "    Embedding(user_voc_size + 1, emb_size, name='user_emb'),\n",
    "    SpatialDropout1D(0.2),\n",
    "    Flatten()\n",
    ")\n",
    "movie_input = Input(movie_dim, name='movie_id')\n",
    "movie_emb = chain_layers(\n",
    "    movie_input,\n",
    "    Embedding(movie_voc_size + 1, emb_size, name='movie_emb'),\n",
    "    SpatialDropout1D(0.2),\n",
    "    Flatten()\n",
    ")\n",
    "movie_meta_input = Input(movie_meta_dim, name='movie_meta')\n",
    "user_movie = chain_layers(\n",
    "    Concatenate()([user_emb, movie_emb, movie_meta_input]),\n",
    "    Dense(64, 'relu'),\n",
    "    Dropout(0.2),\n",
    "    Dense(64, 'relu'),\n",
    "    Dropout(0.2),\n",
    "    Dense(64, 'relu'),\n",
    "    Dropout(0.2),\n",
    "    Dense(n_classes, 'softmax')\n",
    ")\n",
    "movies_h_c_1 = Model([user_input, movie_input, movie_meta_input], user_movie, name='movies_h_c_1')\n",
    "movies_h_c_1.summary()"
   ]
  },
  {
   "cell_type": "code",
   "execution_count": 13,
   "metadata": {},
   "outputs": [
    {
     "name": "stdout",
     "output_type": "stream",
     "text": [
      "Epoch 1/8\n",
      "3011/3011 [==============================] - 46s 15ms/step - loss: 0.9939 - accuracy: 0.5665 - val_loss: 0.9148 - val_accuracy: 0.6017\n",
      "Epoch 2/8\n",
      "3011/3011 [==============================] - 50s 17ms/step - loss: 0.9008 - accuracy: 0.6113 - val_loss: 0.9052 - val_accuracy: 0.6032\n",
      "Epoch 3/8\n",
      "3011/3011 [==============================] - 46s 15ms/step - loss: 0.8718 - accuracy: 0.6245 - val_loss: 0.9047 - val_accuracy: 0.6026\n",
      "Epoch 4/8\n",
      "3011/3011 [==============================] - 49s 16ms/step - loss: 0.8523 - accuracy: 0.6331 - val_loss: 0.9111 - val_accuracy: 0.6031\n"
     ]
    }
   ],
   "source": [
    "movies_h_c_1.compile('adam', 'categorical_crossentropy', ['accuracy'])\n",
    "movies_h_c_1_hist = movies_h_c_1.fit(\n",
    "    [X_train['user_id'], X_train['movie_id'], X_train.drop(columns=['user_id', 'movie_id'])], Y_train,\n",
    "    batch_size=128, epochs=8, validation_split=0.2,\n",
    "    callbacks=[EarlyStopping('val_accuracy', min_delta=0.005, patience=3, restore_best_weights=True)]\n",
    ")"
   ]
  },
  {
   "cell_type": "code",
   "execution_count": 14,
   "metadata": {},
   "outputs": [],
   "source": [
    "movies_h_c_1.save('data/movies_h_c_1.h5')\n",
    "save(movies_h_c_1_hist.history, 'data/movies_h_c_1_history.pickle')"
   ]
  },
  {
   "cell_type": "markdown",
   "metadata": {},
   "source": [
    "### Evalueren"
   ]
  },
  {
   "cell_type": "code",
   "execution_count": 15,
   "metadata": {},
   "outputs": [],
   "source": [
    "movies_h_c_1 = load_model('data/movies_h_c_1.h5')\n",
    "movies_h_c_1_history = load('data/movies_h_c_1_history.pickle')"
   ]
  },
  {
   "cell_type": "code",
   "execution_count": 16,
   "metadata": {},
   "outputs": [
    {
     "data": {
      "image/png": "[encoded data removed]",
      "text/plain": [
       "<Figure size 432x288 with 2 Axes>"
      ]
     },
     "metadata": {
      "needs_background": "light"
     },
     "output_type": "display_data"
    }
   ],
   "source": [
    "plot_acc(movies_h_c_1_history);"
   ]
  },
  {
   "cell_type": "code",
   "execution_count": 17,
   "metadata": {},
   "outputs": [],
   "source": [
    "Y_movies_h_c_1_test = movies_h_c_1.predict(\n",
    "    [X_test['user_id'], X_test['movie_id'], X_test.drop(columns=['user_id', 'movie_id'])]\n",
    ")\n",
    "y_movies_h_c_1_test = Y_movies_h_c_1_test.argmax(axis=1)\n",
    "Y_movies_h_c_1_train = movies_h_c_1.predict(\n",
    "    [X_train['user_id'], X_train['movie_id'], X_train.drop(columns=['user_id', 'movie_id'])]\n",
    ")\n",
    "y_movies_h_c_1_train = Y_movies_h_c_1_train.argmax(axis=1)"
   ]
  },
  {
   "cell_type": "code",
   "execution_count": 18,
   "metadata": {},
   "outputs": [
    {
     "name": "stdout",
     "output_type": "stream",
     "text": [
      "Test:\n"
     ]
    },
    {
     "name": "stderr",
     "output_type": "stream",
     "text": [
      "/home/nicolas/.local/lib/python3.8/site-packages/sklearn/metrics/_classification.py:1272: UndefinedMetricWarning: Precision and F-score are ill-defined and being set to 0.0 in labels with no predicted samples. Use `zero_division` parameter to control this behavior.\n",
      "  _warn_prf(average, modifier, msg_start, len(result))\n"
     ]
    },
    {
     "name": "stdout",
     "output_type": "stream",
     "text": [
      "              precision    recall  f1-score   support\n",
      "\n",
      "           0       0.00      0.00      0.00      1646\n",
      "           1       0.00      0.00      0.00      4616\n",
      "           2       0.57      0.49      0.53     42436\n",
      "           3       0.60      0.77      0.68     77496\n",
      "           4       0.64      0.46      0.53     34373\n",
      "\n",
      "    accuracy                           0.60    160567\n",
      "   macro avg       0.36      0.34      0.35    160567\n",
      "weighted avg       0.58      0.60      0.58    160567\n",
      "\n",
      "Train:\n",
      "              precision    recall  f1-score   support\n",
      "\n",
      "           0       0.00      0.00      0.00      4940\n",
      "           1       0.00      0.00      0.00     13846\n",
      "           2       0.60      0.52      0.56    127306\n",
      "           3       0.62      0.79      0.70    232487\n",
      "           4       0.68      0.48      0.56    103119\n",
      "\n",
      "    accuracy                           0.62    481698\n",
      "   macro avg       0.38      0.36      0.36    481698\n",
      "weighted avg       0.60      0.62      0.60    481698\n",
      "\n"
     ]
    }
   ],
   "source": [
    "print('Test:')\n",
    "print_cl_report(y_test - 1, y_movies_h_c_1_test)\n",
    "print('Train:')\n",
    "print_cl_report(y_train - 1, y_movies_h_c_1_train)"
   ]
  },
  {
   "cell_type": "code",
   "execution_count": 19,
   "metadata": {
    "scrolled": true
   },
   "outputs": [
    {
     "data": {
      "image/png": "[encoded data removed]",
      "text/plain": [
       "<Figure size 432x288 with 1 Axes>"
      ]
     },
     "metadata": {
      "needs_background": "light"
     },
     "output_type": "display_data"
    }
   ],
   "source": [
    "plot_rocc(y_test - 1, Y_movies_h_c_1_test);"
   ]
  },
  {
   "cell_type": "code",
   "execution_count": 20,
   "metadata": {},
   "outputs": [
    {
     "data": {
      "image/png": "[encoded data removed]",
      "text/plain": [
       "<Figure size 360x360 with 1 Axes>"
      ]
     },
     "metadata": {
      "needs_background": "light"
     },
     "output_type": "display_data"
    }
   ],
   "source": [
    "plot_confmat(y_test - 1, y_movies_h_c_1_test);"
   ]
  },
  {
   "cell_type": "code",
   "execution_count": 21,
   "metadata": {
    "scrolled": true
   },
   "outputs": [
    {
     "name": "stdout",
     "output_type": "stream",
     "text": [
      "MSE = 0.5344684773334496\n",
      "MAE = 0.43913132835514146\n"
     ]
    }
   ],
   "source": [
    "print_rg_report(y_test - 1, y_movies_h_c_1_test)"
   ]
  }
 ],
 "metadata": {
  "kernelspec": {
   "display_name": "Python 3",
   "language": "python",
   "name": "python3"
  },
  "language_info": {
   "codemirror_mode": {
    "name": "ipython",
    "version": 3
   },
   "file_extension": ".py",
   "mimetype": "text/x-python",
   "name": "python",
   "nbconvert_exporter": "python",
   "pygments_lexer": "ipython3",
   "version": "3.8.3"
  }
 },
 "nbformat": 4,
 "nbformat_minor": 2
}
