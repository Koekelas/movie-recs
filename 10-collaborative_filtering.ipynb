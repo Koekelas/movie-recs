{
 "cells": [
  {
   "cell_type": "markdown",
   "metadata": {},
   "source": [
    "# Collaborative filtering"
   ]
  },
  {
   "cell_type": "code",
   "execution_count": 1,
   "metadata": {},
   "outputs": [],
   "source": [
    "from functools import reduce\n",
    "import pickle\n",
    "import numpy as np\n",
    "import pandas as pd\n",
    "import matplotlib.pyplot as plt\n",
    "\n",
    "from sklearn.model_selection import train_test_split\n",
    "from sklearn.preprocessing import QuantileTransformer\n",
    "from sklearn.metrics import mean_squared_error, mean_absolute_error\n",
    "from sklearn.metrics import classification_report, roc_curve, auc, confusion_matrix\n",
    "from sklearn.utils.class_weight import compute_sample_weight, compute_class_weight\n",
    "\n",
    "from tensorflow.keras import Input\n",
    "from tensorflow.keras.layers import Flatten, Dot, Concatenate\n",
    "from tensorflow.keras.layers import Embedding, SpatialDropout1D, Dense, Dropout, BatchNormalization\n",
    "from tensorflow.keras.models import load_model, Model\n",
    "from tensorflow.keras.callbacks import EarlyStopping\n",
    "from tensorflow.keras.utils import to_categorical, plot_model\n",
    "\n",
    "pd.set_option('display.max_columns', None)\n",
    "\n",
    "def save(obj, path):\n",
    "    with open(path, 'bw') as file:\n",
    "        pickle.dump(obj, file)\n",
    "\n",
    "def load(path):\n",
    "    with open(path, 'br') as file:\n",
    "        return pickle.load(file)\n",
    "\n",
    "def missing(df):\n",
    "    return df[df.isna().any(axis='columns')]\n",
    "\n",
    "def chain_layers(*layers):\n",
    "    return reduce(lambda output, layer: layer(output), layers)\n",
    "\n",
    "def plot_loss(history):\n",
    "    n_epoch = len(history['loss'])\n",
    "    xs = np.arange(1, n_epoch + 1)\n",
    "    fig, ax = plt.subplots()\n",
    "    ax.set_ylabel('Loss')\n",
    "    ax.set_xlabel('Epoch')\n",
    "    ax.plot(xs, history['loss'], label='Train')\n",
    "    ax.plot(xs, history['val_loss'], label='Validation')\n",
    "    ax.legend()\n",
    "    return fig\n",
    "\n",
    "def plot_acc(history):\n",
    "    n_epoch = len(history['accuracy'])\n",
    "    xs = np.arange(1, n_epoch + 1)\n",
    "    fig, [loss, acc] = plt.subplots(2, 1, sharex=True)\n",
    "    fig.subplots_adjust(hspace=0)\n",
    "    loss.set_ylabel('Loss')\n",
    "    loss.plot(xs, history['loss'], label='Train')\n",
    "    loss.plot(xs, history['val_loss'], label='Validation')\n",
    "    acc.set_xlabel('Epoch')\n",
    "    acc.set_ylabel('Accuracy')\n",
    "    acc.plot(xs, history['accuracy'])\n",
    "    acc.plot(xs, history['val_accuracy'])\n",
    "    fig.legend()\n",
    "    return fig\n",
    "\n",
    "def print_rg_report(y, y_pred):\n",
    "    print(f'MSE = {mean_squared_error(y, y_pred)}\\nMAE = {mean_absolute_error(y, y_pred)}')\n",
    "\n",
    "def plot_preds(y, y_pred):\n",
    "    n_classes = len(np.unique(y))\n",
    "    fig, ax = plt.subplots(figsize=(n_classes, n_classes))\n",
    "    ax.set_xlim(0, n_classes + 1)\n",
    "    ax.set_xticks(np.arange(1, n_classes + 1))\n",
    "    ax.set_xlabel('Actual')\n",
    "    ax.set_ylabel('Predicted')\n",
    "    ax.scatter(y, y_pred, s=64, alpha=1 / 256)\n",
    "    return fig\n",
    "\n",
    "def print_cl_report(y, y_pred):\n",
    "    print(classification_report(y, y_pred))\n",
    "\n",
    "def plot_rocc(y, Y_prob):\n",
    "    n_classes = Y_prob.shape[1]\n",
    "    first_class = (n_classes == 2 and 1) or 0\n",
    "    fig, ax = plt.subplots()\n",
    "    ax.set_xlim(0, 1)\n",
    "    ax.set_ylim(0, 1)\n",
    "    ax.set_xlabel('FPR')\n",
    "    ax.set_ylabel('TPR')\n",
    "    ax.plot([0, 1], [0, 1], \"--\")\n",
    "    for cl in range(first_class, n_classes):\n",
    "        fpr, tpr, _ths = roc_curve(y, Y_prob[:, cl], pos_label=cl)\n",
    "        ax.plot(fpr, tpr, label=f'{cl}, AUC = {auc(fpr, tpr):.2f}')\n",
    "    ax.legend()\n",
    "    return fig\n",
    "\n",
    "def plot_confmat(y, y_pred):\n",
    "    n_classes = len(np.unique(y))\n",
    "    confmat = confusion_matrix(y, y_pred)\n",
    "    max_v = confmat.max()\n",
    "    fig, ax = plt.subplots(figsize=(n_classes, n_classes))\n",
    "    xys = np.arange(n_classes)\n",
    "    ax.set_xticks(xys)\n",
    "    ax.set_yticks(xys)\n",
    "    ax.set_xlabel('Predicted')\n",
    "    ax.set_ylabel('Actual')\n",
    "    ax.imshow(confmat, vmin=max_v * -1, vmax=max_v, cmap='coolwarm')\n",
    "    for actual in range(n_classes):\n",
    "        for predicted in range(n_classes):\n",
    "            ax.text(predicted, actual, confmat[actual, predicted], ha='center', va='center')\n",
    "    return fig"
   ]
  },
  {
   "cell_type": "code",
   "execution_count": 2,
   "metadata": {},
   "outputs": [],
   "source": [
    "movies = pd.read_parquet('data/movies_active.parquet')\n",
    "ratings = pd.read_parquet('data/ratings_active.parquet')\n",
    "users = pd.read_parquet('data/users_active.parquet')"
   ]
  },
  {
   "cell_type": "code",
   "execution_count": 3,
   "metadata": {},
   "outputs": [],
   "source": [
    "n_classes = ratings['rating'].nunique()\n",
    "user_dim, user_voc_size = (1,), users['user_id'].max()\n",
    "movie_dim, movie_voc_size = (1,), movies['movie_id'].max()"
   ]
  },
  {
   "cell_type": "markdown",
   "metadata": {},
   "source": [
    "# Train en test set"
   ]
  },
  {
   "cell_type": "code",
   "execution_count": 4,
   "metadata": {},
   "outputs": [
    {
     "name": "stdout",
     "output_type": "stream",
     "text": [
      "n_train = 481698\n",
      "n_test  = 160567\n"
     ]
    }
   ],
   "source": [
    "rating_class = dict(zip(range(n_classes), range(1, n_classes + 1)))\n",
    "class_rating = {v: k for k, v in rating_class.items()}\n",
    "year_pop_transformer = QuantileTransformer()\n",
    "\n",
    "samples = ratings.merge(movies, 'left', 'movie_id')\n",
    "X, y = samples.drop(columns=['rating', 'date_time', 'imdb_id', 'title']), samples['rating']\n",
    "X_train, X_test, y_train, y_test = train_test_split(X, y, random_state=sum(map(ord, list('Mad Max'))), stratify=y)\n",
    "X_train = (\n",
    "    pd\n",
    "        .DataFrame(\n",
    "            year_pop_transformer.fit_transform(X_train[['year', 'popularity']]),\n",
    "            X_train.index, ['year', 'popularity']\n",
    "        )\n",
    "        .join(X_train.drop(columns=['year', 'popularity']))\n",
    "        .reindex(columns=X_train.columns)\n",
    ")\n",
    "X_test = (\n",
    "    pd\n",
    "        .DataFrame(\n",
    "            year_pop_transformer.transform(X_test[['year', 'popularity']]),\n",
    "            X_test.index, ['year', 'popularity']\n",
    "        )\n",
    "        .join(X_test.drop(columns=['year', 'popularity']))\n",
    "        .reindex(columns=X_test.columns)\n",
    ")\n",
    "Y_train = to_categorical(y_train.replace(class_rating))\n",
    "\n",
    "print(f'n_train = {len(X_train)}\\nn_test  = {len(X_test)}')"
   ]
  },
  {
   "cell_type": "code",
   "execution_count": 5,
   "metadata": {},
   "outputs": [
    {
     "data": {
      "text/html": [
       "<div>\n",
       "<style scoped>\n",
       "    .dataframe tbody tr th:only-of-type {\n",
       "        vertical-align: middle;\n",
       "    }\n",
       "\n",
       "    .dataframe tbody tr th {\n",
       "        vertical-align: top;\n",
       "    }\n",
       "\n",
       "    .dataframe thead th {\n",
       "        text-align: right;\n",
       "    }\n",
       "</style>\n",
       "<table border=\"1\" class=\"dataframe\">\n",
       "  <thead>\n",
       "    <tr style=\"text-align: right;\">\n",
       "      <th></th>\n",
       "      <th>user_id</th>\n",
       "      <th>movie_id</th>\n",
       "      <th>year</th>\n",
       "      <th>action</th>\n",
       "      <th>adult</th>\n",
       "      <th>adventure</th>\n",
       "      <th>animation</th>\n",
       "      <th>biography</th>\n",
       "      <th>comedy</th>\n",
       "      <th>crime</th>\n",
       "      <th>documentary</th>\n",
       "      <th>drama</th>\n",
       "      <th>family</th>\n",
       "      <th>fantasy</th>\n",
       "      <th>film_noir</th>\n",
       "      <th>game_show</th>\n",
       "      <th>history</th>\n",
       "      <th>horror</th>\n",
       "      <th>music</th>\n",
       "      <th>musical</th>\n",
       "      <th>mystery</th>\n",
       "      <th>news</th>\n",
       "      <th>reality_tv</th>\n",
       "      <th>romance</th>\n",
       "      <th>sci_fi</th>\n",
       "      <th>short</th>\n",
       "      <th>sport</th>\n",
       "      <th>talk_show</th>\n",
       "      <th>thriller</th>\n",
       "      <th>war</th>\n",
       "      <th>western</th>\n",
       "      <th>popularity</th>\n",
       "    </tr>\n",
       "  </thead>\n",
       "  <tbody>\n",
       "    <tr>\n",
       "      <th>629636</th>\n",
       "      <td>3409</td>\n",
       "      <td>798</td>\n",
       "      <td>0.004505</td>\n",
       "      <td>0</td>\n",
       "      <td>0</td>\n",
       "      <td>0</td>\n",
       "      <td>0</td>\n",
       "      <td>1</td>\n",
       "      <td>0</td>\n",
       "      <td>0</td>\n",
       "      <td>0</td>\n",
       "      <td>1</td>\n",
       "      <td>0</td>\n",
       "      <td>0</td>\n",
       "      <td>0</td>\n",
       "      <td>0</td>\n",
       "      <td>1</td>\n",
       "      <td>0</td>\n",
       "      <td>0</td>\n",
       "      <td>0</td>\n",
       "      <td>0</td>\n",
       "      <td>0</td>\n",
       "      <td>0</td>\n",
       "      <td>1</td>\n",
       "      <td>0</td>\n",
       "      <td>0</td>\n",
       "      <td>0</td>\n",
       "      <td>0</td>\n",
       "      <td>0</td>\n",
       "      <td>1</td>\n",
       "      <td>0</td>\n",
       "      <td>0.218719</td>\n",
       "    </tr>\n",
       "    <tr>\n",
       "      <th>379208</th>\n",
       "      <td>4607</td>\n",
       "      <td>27461</td>\n",
       "      <td>0.780781</td>\n",
       "      <td>0</td>\n",
       "      <td>0</td>\n",
       "      <td>0</td>\n",
       "      <td>0</td>\n",
       "      <td>0</td>\n",
       "      <td>0</td>\n",
       "      <td>0</td>\n",
       "      <td>0</td>\n",
       "      <td>1</td>\n",
       "      <td>0</td>\n",
       "      <td>0</td>\n",
       "      <td>0</td>\n",
       "      <td>0</td>\n",
       "      <td>0</td>\n",
       "      <td>1</td>\n",
       "      <td>0</td>\n",
       "      <td>0</td>\n",
       "      <td>0</td>\n",
       "      <td>0</td>\n",
       "      <td>0</td>\n",
       "      <td>0</td>\n",
       "      <td>1</td>\n",
       "      <td>0</td>\n",
       "      <td>0</td>\n",
       "      <td>0</td>\n",
       "      <td>1</td>\n",
       "      <td>0</td>\n",
       "      <td>0</td>\n",
       "      <td>0.384384</td>\n",
       "    </tr>\n",
       "    <tr>\n",
       "      <th>421943</th>\n",
       "      <td>5055</td>\n",
       "      <td>27630</td>\n",
       "      <td>0.780781</td>\n",
       "      <td>0</td>\n",
       "      <td>0</td>\n",
       "      <td>0</td>\n",
       "      <td>0</td>\n",
       "      <td>0</td>\n",
       "      <td>1</td>\n",
       "      <td>0</td>\n",
       "      <td>0</td>\n",
       "      <td>1</td>\n",
       "      <td>0</td>\n",
       "      <td>0</td>\n",
       "      <td>0</td>\n",
       "      <td>0</td>\n",
       "      <td>0</td>\n",
       "      <td>0</td>\n",
       "      <td>0</td>\n",
       "      <td>0</td>\n",
       "      <td>0</td>\n",
       "      <td>0</td>\n",
       "      <td>0</td>\n",
       "      <td>0</td>\n",
       "      <td>0</td>\n",
       "      <td>0</td>\n",
       "      <td>0</td>\n",
       "      <td>0</td>\n",
       "      <td>0</td>\n",
       "      <td>0</td>\n",
       "      <td>0</td>\n",
       "      <td>0.000000</td>\n",
       "    </tr>\n",
       "    <tr>\n",
       "      <th>252703</th>\n",
       "      <td>3183</td>\n",
       "      <td>18349</td>\n",
       "      <td>0.976476</td>\n",
       "      <td>1</td>\n",
       "      <td>0</td>\n",
       "      <td>0</td>\n",
       "      <td>0</td>\n",
       "      <td>0</td>\n",
       "      <td>1</td>\n",
       "      <td>0</td>\n",
       "      <td>0</td>\n",
       "      <td>0</td>\n",
       "      <td>0</td>\n",
       "      <td>0</td>\n",
       "      <td>0</td>\n",
       "      <td>0</td>\n",
       "      <td>0</td>\n",
       "      <td>0</td>\n",
       "      <td>0</td>\n",
       "      <td>0</td>\n",
       "      <td>1</td>\n",
       "      <td>0</td>\n",
       "      <td>0</td>\n",
       "      <td>1</td>\n",
       "      <td>0</td>\n",
       "      <td>0</td>\n",
       "      <td>0</td>\n",
       "      <td>0</td>\n",
       "      <td>0</td>\n",
       "      <td>0</td>\n",
       "      <td>0</td>\n",
       "      <td>0.982638</td>\n",
       "    </tr>\n",
       "    <tr>\n",
       "      <th>543171</th>\n",
       "      <td>6272</td>\n",
       "      <td>16869</td>\n",
       "      <td>0.315315</td>\n",
       "      <td>0</td>\n",
       "      <td>0</td>\n",
       "      <td>0</td>\n",
       "      <td>0</td>\n",
       "      <td>0</td>\n",
       "      <td>0</td>\n",
       "      <td>0</td>\n",
       "      <td>0</td>\n",
       "      <td>1</td>\n",
       "      <td>0</td>\n",
       "      <td>0</td>\n",
       "      <td>0</td>\n",
       "      <td>0</td>\n",
       "      <td>0</td>\n",
       "      <td>0</td>\n",
       "      <td>0</td>\n",
       "      <td>0</td>\n",
       "      <td>0</td>\n",
       "      <td>0</td>\n",
       "      <td>0</td>\n",
       "      <td>0</td>\n",
       "      <td>0</td>\n",
       "      <td>0</td>\n",
       "      <td>0</td>\n",
       "      <td>0</td>\n",
       "      <td>0</td>\n",
       "      <td>0</td>\n",
       "      <td>0</td>\n",
       "      <td>0.311812</td>\n",
       "    </tr>\n",
       "  </tbody>\n",
       "</table>\n",
       "</div>"
      ],
      "text/plain": [
       "        user_id  movie_id      year  action  adult  adventure  animation  \\\n",
       "629636     3409       798  0.004505       0      0          0          0   \n",
       "379208     4607     27461  0.780781       0      0          0          0   \n",
       "421943     5055     27630  0.780781       0      0          0          0   \n",
       "252703     3183     18349  0.976476       1      0          0          0   \n",
       "543171     6272     16869  0.315315       0      0          0          0   \n",
       "\n",
       "        biography  comedy  crime  documentary  drama  family  fantasy  \\\n",
       "629636          1       0      0            0      1       0        0   \n",
       "379208          0       0      0            0      1       0        0   \n",
       "421943          0       1      0            0      1       0        0   \n",
       "252703          0       1      0            0      0       0        0   \n",
       "543171          0       0      0            0      1       0        0   \n",
       "\n",
       "        film_noir  game_show  history  horror  music  musical  mystery  news  \\\n",
       "629636          0          0        1       0      0        0        0     0   \n",
       "379208          0          0        0       1      0        0        0     0   \n",
       "421943          0          0        0       0      0        0        0     0   \n",
       "252703          0          0        0       0      0        0        1     0   \n",
       "543171          0          0        0       0      0        0        0     0   \n",
       "\n",
       "        reality_tv  romance  sci_fi  short  sport  talk_show  thriller  war  \\\n",
       "629636           0        1       0      0      0          0         0    1   \n",
       "379208           0        0       1      0      0          0         1    0   \n",
       "421943           0        0       0      0      0          0         0    0   \n",
       "252703           0        1       0      0      0          0         0    0   \n",
       "543171           0        0       0      0      0          0         0    0   \n",
       "\n",
       "        western  popularity  \n",
       "629636        0    0.218719  \n",
       "379208        0    0.384384  \n",
       "421943        0    0.000000  \n",
       "252703        0    0.982638  \n",
       "543171        0    0.311812  "
      ]
     },
     "execution_count": 5,
     "metadata": {},
     "output_type": "execute_result"
    }
   ],
   "source": [
    "X_train.head()"
   ]
  },
  {
   "cell_type": "code",
   "execution_count": 6,
   "metadata": {},
   "outputs": [
    {
     "data": {
      "text/plain": [
       "629636    2\n",
       "379208    4\n",
       "421943    4\n",
       "252703    3\n",
       "543171    5\n",
       "Name: rating, dtype: int64"
      ]
     },
     "execution_count": 6,
     "metadata": {},
     "output_type": "execute_result"
    }
   ],
   "source": [
    "y_train.head()"
   ]
  },
  {
   "cell_type": "code",
   "execution_count": 7,
   "metadata": {},
   "outputs": [
    {
     "data": {
      "text/plain": [
       "array([[0., 1., 0., 0., 0.],\n",
       "       [0., 0., 0., 1., 0.],\n",
       "       [0., 0., 0., 1., 0.],\n",
       "       [0., 0., 1., 0., 0.],\n",
       "       [0., 0., 0., 0., 1.]], dtype=float32)"
      ]
     },
     "execution_count": 7,
     "metadata": {},
     "output_type": "execute_result"
    }
   ],
   "source": [
    "Y_train[:5]"
   ]
  },
  {
   "cell_type": "code",
   "execution_count": 8,
   "metadata": {},
   "outputs": [],
   "source": [
    "save(\n",
    "    (rating_class, class_rating, year_pop_transformer, X_train, X_test, y_train, y_test, Y_train),\n",
    "    'data/train_test_active.pickle'\n",
    ")"
   ]
  },
  {
   "cell_type": "markdown",
   "metadata": {},
   "source": [
    "# Regressie"
   ]
  },
  {
   "cell_type": "code",
   "execution_count": 9,
   "metadata": {},
   "outputs": [],
   "source": [
    "emb_size = 16\n",
    "\n",
    "user_input = Input(user_dim, name='user_id')\n",
    "user_emb = chain_layers(\n",
    "    user_input,\n",
    "    Embedding(user_voc_size + 1, emb_size, name='user_emb'),\n",
    "    Flatten()\n",
    ")\n",
    "movie_input = Input(movie_dim, name='movie_id')\n",
    "movie_emb = chain_layers(\n",
    "    movie_input,\n",
    "    Embedding(movie_voc_size + 1, emb_size, name='movie_emb'),\n",
    "    Flatten()\n",
    ")\n",
    "user_dot_movie = Dot(1, name='user_dot_movie')([user_emb, movie_emb])\n",
    "movies_cf_r = Model([user_input, movie_input], user_dot_movie, name='movies_cf_r')"
   ]
  },
  {
   "cell_type": "code",
   "execution_count": 10,
   "metadata": {},
   "outputs": [
    {
     "name": "stdout",
     "output_type": "stream",
     "text": [
      "Model: \"movies_cf_r\"\n",
      "__________________________________________________________________________________________________\n",
      "Layer (type)                    Output Shape         Param #     Connected to                     \n",
      "==================================================================================================\n",
      "user_id (InputLayer)            [(None, 1)]          0                                            \n",
      "__________________________________________________________________________________________________\n",
      "movie_id (InputLayer)           [(None, 1)]          0                                            \n",
      "__________________________________________________________________________________________________\n",
      "user_emb (Embedding)            (None, 1, 16)        113968      user_id[0][0]                    \n",
      "__________________________________________________________________________________________________\n",
      "movie_emb (Embedding)           (None, 1, 16)        526688      movie_id[0][0]                   \n",
      "__________________________________________________________________________________________________\n",
      "flatten (Flatten)               (None, 16)           0           user_emb[0][0]                   \n",
      "__________________________________________________________________________________________________\n",
      "flatten_1 (Flatten)             (None, 16)           0           movie_emb[0][0]                  \n",
      "__________________________________________________________________________________________________\n",
      "user_dot_movie (Dot)            (None, 1)            0           flatten[0][0]                    \n",
      "                                                                 flatten_1[0][0]                  \n",
      "==================================================================================================\n",
      "Total params: 640,656\n",
      "Trainable params: 640,656\n",
      "Non-trainable params: 0\n",
      "__________________________________________________________________________________________________\n"
     ]
    }
   ],
   "source": [
    "movies_cf_r.summary()"
   ]
  },
  {
   "cell_type": "code",
   "execution_count": 11,
   "metadata": {},
   "outputs": [
    {
     "data": {
      "image/png": "[encoded data removed]",
      "text/plain": [
       "<IPython.core.display.Image object>"
      ]
     },
     "execution_count": 11,
     "metadata": {},
     "output_type": "execute_result"
    }
   ],
   "source": [
    "plot_model(movies_cf_r, '/tmp/model.png', rankdir='LR')"
   ]
  },
  {
   "cell_type": "code",
   "execution_count": 12,
   "metadata": {},
   "outputs": [
    {
     "name": "stdout",
     "output_type": "stream",
     "text": [
      "Epoch 1/8\n",
      "3011/3011 [==============================] - 24s 8ms/step - loss: 11.1368 - val_loss: 4.4351\n",
      "Epoch 2/8\n",
      "3011/3011 [==============================] - 23s 8ms/step - loss: 2.6405 - val_loss: 1.8624\n",
      "Epoch 3/8\n",
      "3011/3011 [==============================] - 23s 8ms/step - loss: 1.3413 - val_loss: 1.3029\n",
      "Epoch 4/8\n",
      "3011/3011 [==============================] - 24s 8ms/step - loss: 0.9465 - val_loss: 1.0947\n",
      "Epoch 5/8\n",
      "3011/3011 [==============================] - 25s 8ms/step - loss: 0.7579 - val_loss: 0.9946\n",
      "Epoch 6/8\n",
      "3011/3011 [==============================] - 26s 9ms/step - loss: 0.6459 - val_loss: 0.9349\n",
      "Epoch 7/8\n",
      "3011/3011 [==============================] - 23s 8ms/step - loss: 0.5714 - val_loss: 0.8950\n",
      "Epoch 8/8\n",
      "3011/3011 [==============================] - 25s 8ms/step - loss: 0.5179 - val_loss: 0.8695\n"
     ]
    }
   ],
   "source": [
    "movies_cf_r.compile('adam', 'mse')\n",
    "movies_cf_r_hist = movies_cf_r.fit(\n",
    "    [X_train['user_id'], X_train['movie_id']], y_train, batch_size=128, epochs=8, validation_split=0.2,\n",
    "    callbacks=[EarlyStopping(min_delta=0.1, patience=3, restore_best_weights=True)]\n",
    ")"
   ]
  },
  {
   "cell_type": "code",
   "execution_count": 13,
   "metadata": {},
   "outputs": [],
   "source": [
    "movies_cf_r.save('data/movies_cf_r.h5')\n",
    "save(movies_cf_r_hist.history, 'data/movies_cf_r_history.pickle')"
   ]
  },
  {
   "cell_type": "markdown",
   "metadata": {},
   "source": [
    "## Evalueren"
   ]
  },
  {
   "cell_type": "code",
   "execution_count": 14,
   "metadata": {},
   "outputs": [],
   "source": [
    "movies_cf_r = load_model('data/movies_cf_r.h5')\n",
    "movies_cf_r_history = load('data/movies_cf_r_history.pickle')"
   ]
  },
  {
   "cell_type": "code",
   "execution_count": 15,
   "metadata": {},
   "outputs": [
    {
     "data": {
      "image/png": "[encoded data removed]",
      "text/plain": [
       "<Figure size 432x288 with 1 Axes>"
      ]
     },
     "metadata": {
      "needs_background": "light"
     },
     "output_type": "display_data"
    }
   ],
   "source": [
    "plot_loss(movies_cf_r_history);"
   ]
  },
  {
   "cell_type": "code",
   "execution_count": 16,
   "metadata": {},
   "outputs": [],
   "source": [
    "y_movies_cf_r_test = movies_cf_r.predict([X_test['user_id'], X_test['movie_id']])\n",
    "y_movies_cf_r_train = movies_cf_r.predict([X_train['user_id'], X_train['movie_id']])"
   ]
  },
  {
   "cell_type": "code",
   "execution_count": 17,
   "metadata": {},
   "outputs": [
    {
     "name": "stdout",
     "output_type": "stream",
     "text": [
      "Test:\n",
      "MSE = 0.8847522151720113\n",
      "MAE = 0.6253388016249102\n",
      "Train:\n",
      "MSE = 0.5374796789620602\n",
      "MAE = 0.5291202455084182\n"
     ]
    }
   ],
   "source": [
    "print('Test:')\n",
    "print_rg_report(y_test, y_movies_cf_r_test)\n",
    "print('Train:')\n",
    "print_rg_report(y_train, y_movies_cf_r_train)"
   ]
  },
  {
   "cell_type": "code",
   "execution_count": 18,
   "metadata": {},
   "outputs": [
    {
     "data": {
      "image/png": "[encoded data removed]",
      "text/plain": [
       "<Figure size 360x360 with 1 Axes>"
      ]
     },
     "metadata": {
      "needs_background": "light"
     },
     "output_type": "display_data"
    }
   ],
   "source": [
    "plot_preds(y_test, y_movies_cf_r_test);"
   ]
  },
  {
   "cell_type": "markdown",
   "metadata": {},
   "source": [
    "Underfitting"
   ]
  },
  {
   "cell_type": "markdown",
   "metadata": {},
   "source": [
    "# Classificatie"
   ]
  },
  {
   "cell_type": "code",
   "execution_count": 19,
   "metadata": {},
   "outputs": [],
   "source": [
    "emb_size = 16\n",
    "\n",
    "user_input = Input(user_dim, name='user_id')\n",
    "user_emb = chain_layers(\n",
    "    user_input,\n",
    "    Embedding(user_voc_size + 1, emb_size, name='user_emb'),\n",
    "    Flatten()\n",
    ")\n",
    "movie_input = Input(movie_dim, name='movie_id')\n",
    "movie_emb = chain_layers(\n",
    "    movie_input,\n",
    "    Embedding(movie_voc_size + 1, emb_size, name='movie_emb'),\n",
    "    Flatten()\n",
    ")\n",
    "user_movie = chain_layers(\n",
    "    Concatenate()([user_emb, movie_emb]),\n",
    "    Dense(n_classes, 'softmax')\n",
    ")\n",
    "movies_cf_c = Model([user_input, movie_input], user_movie, name='movies_cf_c')"
   ]
  },
  {
   "cell_type": "code",
   "execution_count": 20,
   "metadata": {},
   "outputs": [
    {
     "name": "stdout",
     "output_type": "stream",
     "text": [
      "Model: \"movies_cf_c\"\n",
      "__________________________________________________________________________________________________\n",
      "Layer (type)                    Output Shape         Param #     Connected to                     \n",
      "==================================================================================================\n",
      "user_id (InputLayer)            [(None, 1)]          0                                            \n",
      "__________________________________________________________________________________________________\n",
      "movie_id (InputLayer)           [(None, 1)]          0                                            \n",
      "__________________________________________________________________________________________________\n",
      "user_emb (Embedding)            (None, 1, 16)        113968      user_id[0][0]                    \n",
      "__________________________________________________________________________________________________\n",
      "movie_emb (Embedding)           (None, 1, 16)        526688      movie_id[0][0]                   \n",
      "__________________________________________________________________________________________________\n",
      "flatten_2 (Flatten)             (None, 16)           0           user_emb[0][0]                   \n",
      "__________________________________________________________________________________________________\n",
      "flatten_3 (Flatten)             (None, 16)           0           movie_emb[0][0]                  \n",
      "__________________________________________________________________________________________________\n",
      "concatenate (Concatenate)       (None, 32)           0           flatten_2[0][0]                  \n",
      "                                                                 flatten_3[0][0]                  \n",
      "__________________________________________________________________________________________________\n",
      "dense (Dense)                   (None, 5)            165         concatenate[0][0]                \n",
      "==================================================================================================\n",
      "Total params: 640,821\n",
      "Trainable params: 640,821\n",
      "Non-trainable params: 0\n",
      "__________________________________________________________________________________________________\n"
     ]
    }
   ],
   "source": [
    "movies_cf_c.summary()"
   ]
  },
  {
   "cell_type": "code",
   "execution_count": 21,
   "metadata": {},
   "outputs": [
    {
     "data": {
      "image/png": "[encoded data removed]",
      "text/plain": [
       "<IPython.core.display.Image object>"
      ]
     },
     "execution_count": 21,
     "metadata": {},
     "output_type": "execute_result"
    }
   ],
   "source": [
    "plot_model(movies_cf_c, '/tmp/model.png', rankdir='LR')"
   ]
  },
  {
   "cell_type": "code",
   "execution_count": 22,
   "metadata": {},
   "outputs": [
    {
     "name": "stdout",
     "output_type": "stream",
     "text": [
      "Epoch 1/8\n",
      "3011/3011 [==============================] - 36s 12ms/step - loss: 1.0169 - accuracy: 0.5700 - val_loss: 0.9186 - val_accuracy: 0.5985\n",
      "Epoch 2/8\n",
      "3011/3011 [==============================] - 37s 12ms/step - loss: 0.8755 - accuracy: 0.6213 - val_loss: 0.9131 - val_accuracy: 0.6011\n",
      "Epoch 3/8\n",
      "3011/3011 [==============================] - 37s 12ms/step - loss: 0.8464 - accuracy: 0.6334 - val_loss: 0.9181 - val_accuracy: 0.6007\n",
      "Epoch 4/8\n",
      "3011/3011 [==============================] - 38s 13ms/step - loss: 0.8279 - accuracy: 0.6409 - val_loss: 0.9251 - val_accuracy: 0.5992\n"
     ]
    }
   ],
   "source": [
    "movies_cf_c.compile('adam', 'categorical_crossentropy', ['accuracy'])\n",
    "movies_cf_c_hist = movies_cf_c.fit(\n",
    "    [X_train['user_id'], X_train['movie_id']], Y_train, batch_size=128, epochs=8, validation_split=0.2,\n",
    "    callbacks=[EarlyStopping('val_accuracy', min_delta=0.005, patience=3, restore_best_weights=True)]\n",
    ")"
   ]
  },
  {
   "cell_type": "code",
   "execution_count": 23,
   "metadata": {},
   "outputs": [],
   "source": [
    "movies_cf_c.save('data/movies_cf_c.h5')\n",
    "save(movies_cf_c_hist.history, 'data/movies_cf_c_history.pickle')"
   ]
  },
  {
   "cell_type": "markdown",
   "metadata": {},
   "source": [
    "## Evalueren"
   ]
  },
  {
   "cell_type": "code",
   "execution_count": 24,
   "metadata": {},
   "outputs": [],
   "source": [
    "movies_cf_c = load_model('data/movies_cf_c.h5')\n",
    "movies_cf_c_history = load('data/movies_cf_c_history.pickle')"
   ]
  },
  {
   "cell_type": "code",
   "execution_count": 25,
   "metadata": {},
   "outputs": [
    {
     "data": {
      "image/png": "[encoded data removed]",
      "text/plain": [
       "<Figure size 432x288 with 2 Axes>"
      ]
     },
     "metadata": {
      "needs_background": "light"
     },
     "output_type": "display_data"
    }
   ],
   "source": [
    "plot_acc(movies_cf_c_history);"
   ]
  },
  {
   "cell_type": "code",
   "execution_count": 26,
   "metadata": {},
   "outputs": [],
   "source": [
    "Y_movies_cf_c_test = movies_cf_c.predict([X_test['user_id'], X_test['movie_id']])\n",
    "y_movies_cf_c_test = Y_movies_cf_c_test.argmax(axis=1)\n",
    "Y_movies_cf_c_train = movies_cf_c.predict([X_train['user_id'], X_train['movie_id']])\n",
    "y_movies_cf_c_train = Y_movies_cf_c_train.argmax(axis=1)"
   ]
  },
  {
   "cell_type": "code",
   "execution_count": 27,
   "metadata": {},
   "outputs": [
    {
     "name": "stdout",
     "output_type": "stream",
     "text": [
      "Test:\n",
      "              precision    recall  f1-score   support\n",
      "\n",
      "           0       0.27      0.03      0.06      1646\n",
      "           1       0.32      0.02      0.04      4616\n",
      "           2       0.57      0.47      0.51     42436\n",
      "           3       0.60      0.76      0.67     77496\n",
      "           4       0.63      0.49      0.55     34373\n",
      "\n",
      "    accuracy                           0.60    160567\n",
      "   macro avg       0.48      0.36      0.37    160567\n",
      "weighted avg       0.59      0.60      0.58    160567\n",
      "\n",
      "Train:\n",
      "              precision    recall  f1-score   support\n",
      "\n",
      "           0       0.47      0.05      0.10      4940\n",
      "           1       0.46      0.04      0.07     13846\n",
      "           2       0.61      0.51      0.55    127306\n",
      "           3       0.63      0.79      0.70    232487\n",
      "           4       0.66      0.53      0.59    103119\n",
      "\n",
      "    accuracy                           0.63    481698\n",
      "   macro avg       0.56      0.38      0.40    481698\n",
      "weighted avg       0.62      0.63      0.61    481698\n",
      "\n"
     ]
    }
   ],
   "source": [
    "print('Test:')\n",
    "print_cl_report(y_test - 1, y_movies_cf_c_test)\n",
    "print('Train:')\n",
    "print_cl_report(y_train - 1, y_movies_cf_c_train)"
   ]
  },
  {
   "cell_type": "code",
   "execution_count": 28,
   "metadata": {},
   "outputs": [
    {
     "data": {
      "image/png": "[encoded data removed]",
      "text/plain": [
       "<Figure size 432x288 with 1 Axes>"
      ]
     },
     "metadata": {
      "needs_background": "light"
     },
     "output_type": "display_data"
    }
   ],
   "source": [
    "plot_rocc(y_test - 1, Y_movies_cf_c_test);"
   ]
  },
  {
   "cell_type": "code",
   "execution_count": 29,
   "metadata": {},
   "outputs": [
    {
     "data": {
      "image/png": "[encoded data removed]",
      "text/plain": [
       "<Figure size 360x360 with 1 Axes>"
      ]
     },
     "metadata": {
      "needs_background": "light"
     },
     "output_type": "display_data"
    }
   ],
   "source": [
    "plot_confmat(y_test - 1, y_movies_cf_c_test);"
   ]
  },
  {
   "cell_type": "markdown",
   "metadata": {},
   "source": [
    "Klassen zijn beoordelingen, i.e., metrics voor regressie kunnen gebruikt worden."
   ]
  },
  {
   "cell_type": "code",
   "execution_count": 30,
   "metadata": {
    "scrolled": true
   },
   "outputs": [
    {
     "name": "stdout",
     "output_type": "stream",
     "text": [
      "MSE = 0.5545161832755174\n",
      "MAE = 0.4461377493507383\n"
     ]
    }
   ],
   "source": [
    "print_rg_report(y_test - 1, y_movies_cf_c_test)"
   ]
  },
  {
   "cell_type": "markdown",
   "metadata": {},
   "source": [
    "Underfitting, last van onbalans."
   ]
  }
 ],
 "metadata": {
  "kernelspec": {
   "display_name": "Python 3",
   "language": "python",
   "name": "python3"
  },
  "language_info": {
   "codemirror_mode": {
    "name": "ipython",
    "version": 3
   },
   "file_extension": ".py",
   "mimetype": "text/x-python",
   "name": "python",
   "nbconvert_exporter": "python",
   "pygments_lexer": "ipython3",
   "version": "3.8.5"
  }
 },
 "nbformat": 4,
 "nbformat_minor": 2
}
