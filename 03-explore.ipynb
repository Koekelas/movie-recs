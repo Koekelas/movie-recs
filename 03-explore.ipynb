{
 "cells": [
  {
   "cell_type": "markdown",
   "metadata": {},
   "source": [
    "# Verkennen"
   ]
  },
  {
   "cell_type": "code",
   "execution_count": 1,
   "metadata": {},
   "outputs": [],
   "source": [
    "import numpy as np\n",
    "import pandas as pd\n",
    "import seaborn as sns\n",
    "\n",
    "def missing(df):\n",
    "    return df[df.isna().any(axis='columns')]\n",
    "\n",
    "def movie_url(imdb_id):\n",
    "    return f'https://www.imdb.com/title/tt{imdb_id:07}/'\n",
    "\n",
    "def user_url(twitter_id):\n",
    "    return f'https://twitter.com/i/user/{twitter_id}'"
   ]
  },
  {
   "cell_type": "code",
   "execution_count": 2,
   "metadata": {},
   "outputs": [
    {
     "name": "stdout",
     "output_type": "stream",
     "text": [
      "n_movies = 35611\n"
     ]
    },
    {
     "data": {
      "text/html": [
       "<div>\n",
       "<style scoped>\n",
       "    .dataframe tbody tr th:only-of-type {\n",
       "        vertical-align: middle;\n",
       "    }\n",
       "\n",
       "    .dataframe tbody tr th {\n",
       "        vertical-align: top;\n",
       "    }\n",
       "\n",
       "    .dataframe thead th {\n",
       "        text-align: right;\n",
       "    }\n",
       "</style>\n",
       "<table border=\"1\" class=\"dataframe\">\n",
       "  <thead>\n",
       "    <tr style=\"text-align: right;\">\n",
       "      <th></th>\n",
       "      <th>imdb_id</th>\n",
       "      <th>title</th>\n",
       "      <th>year</th>\n",
       "      <th>genres</th>\n",
       "    </tr>\n",
       "  </thead>\n",
       "  <tbody>\n",
       "    <tr>\n",
       "      <th>0</th>\n",
       "      <td>8</td>\n",
       "      <td>Edison Kinetoscopic Record of a Sneeze</td>\n",
       "      <td>1894</td>\n",
       "      <td>[documentary, short]</td>\n",
       "    </tr>\n",
       "    <tr>\n",
       "      <th>1</th>\n",
       "      <td>10</td>\n",
       "      <td>La sortie des usines Lumière</td>\n",
       "      <td>1895</td>\n",
       "      <td>[documentary, short]</td>\n",
       "    </tr>\n",
       "    <tr>\n",
       "      <th>2</th>\n",
       "      <td>12</td>\n",
       "      <td>The Arrival of a Train</td>\n",
       "      <td>1896</td>\n",
       "      <td>[documentary, short]</td>\n",
       "    </tr>\n",
       "    <tr>\n",
       "      <th>3</th>\n",
       "      <td>25</td>\n",
       "      <td>The Oxford and Cambridge University Boat Race</td>\n",
       "      <td>1895</td>\n",
       "      <td>None</td>\n",
       "    </tr>\n",
       "    <tr>\n",
       "      <th>4</th>\n",
       "      <td>91</td>\n",
       "      <td>Le manoir du diable</td>\n",
       "      <td>1896</td>\n",
       "      <td>[short, horror]</td>\n",
       "    </tr>\n",
       "  </tbody>\n",
       "</table>\n",
       "</div>"
      ],
      "text/plain": [
       "   imdb_id                                          title  year  \\\n",
       "0        8         Edison Kinetoscopic Record of a Sneeze  1894   \n",
       "1       10                   La sortie des usines Lumière  1895   \n",
       "2       12                         The Arrival of a Train  1896   \n",
       "3       25  The Oxford and Cambridge University Boat Race  1895   \n",
       "4       91                            Le manoir du diable  1896   \n",
       "\n",
       "                 genres  \n",
       "0  [documentary, short]  \n",
       "1  [documentary, short]  \n",
       "2  [documentary, short]  \n",
       "3                  None  \n",
       "4       [short, horror]  "
      ]
     },
     "execution_count": 2,
     "metadata": {},
     "output_type": "execute_result"
    }
   ],
   "source": [
    "movies = pd.read_parquet('data/movies_clean.parquet')\n",
    "print(f'n_movies = {movies.shape[0]}')\n",
    "movies.head()"
   ]
  },
  {
   "cell_type": "code",
   "execution_count": 3,
   "metadata": {},
   "outputs": [
    {
     "name": "stdout",
     "output_type": "stream",
     "text": [
      "n_ratings = 857465\n"
     ]
    },
    {
     "data": {
      "text/html": [
       "<div>\n",
       "<style scoped>\n",
       "    .dataframe tbody tr th:only-of-type {\n",
       "        vertical-align: middle;\n",
       "    }\n",
       "\n",
       "    .dataframe tbody tr th {\n",
       "        vertical-align: top;\n",
       "    }\n",
       "\n",
       "    .dataframe thead th {\n",
       "        text-align: right;\n",
       "    }\n",
       "</style>\n",
       "<table border=\"1\" class=\"dataframe\">\n",
       "  <thead>\n",
       "    <tr style=\"text-align: right;\">\n",
       "      <th></th>\n",
       "      <th>user_id</th>\n",
       "      <th>imdb_id</th>\n",
       "      <th>rating</th>\n",
       "      <th>date_time</th>\n",
       "    </tr>\n",
       "  </thead>\n",
       "  <tbody>\n",
       "    <tr>\n",
       "      <th>0</th>\n",
       "      <td>1</td>\n",
       "      <td>114508</td>\n",
       "      <td>8</td>\n",
       "      <td>2013-10-05 21:00:50</td>\n",
       "    </tr>\n",
       "    <tr>\n",
       "      <th>1</th>\n",
       "      <td>2</td>\n",
       "      <td>208092</td>\n",
       "      <td>5</td>\n",
       "      <td>2020-04-09 21:01:12</td>\n",
       "    </tr>\n",
       "    <tr>\n",
       "      <th>2</th>\n",
       "      <td>2</td>\n",
       "      <td>358273</td>\n",
       "      <td>9</td>\n",
       "      <td>2020-01-15 03:10:27</td>\n",
       "    </tr>\n",
       "    <tr>\n",
       "      <th>3</th>\n",
       "      <td>2</td>\n",
       "      <td>10039344</td>\n",
       "      <td>5</td>\n",
       "      <td>2020-01-09 20:50:53</td>\n",
       "    </tr>\n",
       "    <tr>\n",
       "      <th>4</th>\n",
       "      <td>2</td>\n",
       "      <td>6199572</td>\n",
       "      <td>3</td>\n",
       "      <td>2020-05-14 18:54:43</td>\n",
       "    </tr>\n",
       "  </tbody>\n",
       "</table>\n",
       "</div>"
      ],
      "text/plain": [
       "   user_id   imdb_id  rating           date_time\n",
       "0        1    114508       8 2013-10-05 21:00:50\n",
       "1        2    208092       5 2020-04-09 21:01:12\n",
       "2        2    358273       9 2020-01-15 03:10:27\n",
       "3        2  10039344       5 2020-01-09 20:50:53\n",
       "4        2   6199572       3 2020-05-14 18:54:43"
      ]
     },
     "execution_count": 3,
     "metadata": {},
     "output_type": "execute_result"
    }
   ],
   "source": [
    "ratings = pd.read_parquet('data/ratings_clean.parquet')\n",
    "print(f'n_ratings = {ratings.shape[0]}')\n",
    "ratings.head()"
   ]
  },
  {
   "cell_type": "code",
   "execution_count": 4,
   "metadata": {},
   "outputs": [
    {
     "name": "stdout",
     "output_type": "stream",
     "text": [
      "n_users = 62798\n"
     ]
    },
    {
     "data": {
      "text/html": [
       "<div>\n",
       "<style scoped>\n",
       "    .dataframe tbody tr th:only-of-type {\n",
       "        vertical-align: middle;\n",
       "    }\n",
       "\n",
       "    .dataframe tbody tr th {\n",
       "        vertical-align: top;\n",
       "    }\n",
       "\n",
       "    .dataframe thead th {\n",
       "        text-align: right;\n",
       "    }\n",
       "</style>\n",
       "<table border=\"1\" class=\"dataframe\">\n",
       "  <thead>\n",
       "    <tr style=\"text-align: right;\">\n",
       "      <th></th>\n",
       "      <th>user_id</th>\n",
       "      <th>twitter_id</th>\n",
       "    </tr>\n",
       "  </thead>\n",
       "  <tbody>\n",
       "    <tr>\n",
       "      <th>0</th>\n",
       "      <td>1</td>\n",
       "      <td>139564917</td>\n",
       "    </tr>\n",
       "    <tr>\n",
       "      <th>1</th>\n",
       "      <td>2</td>\n",
       "      <td>522540374</td>\n",
       "    </tr>\n",
       "    <tr>\n",
       "      <th>2</th>\n",
       "      <td>3</td>\n",
       "      <td>475571186</td>\n",
       "    </tr>\n",
       "    <tr>\n",
       "      <th>3</th>\n",
       "      <td>4</td>\n",
       "      <td>215022153</td>\n",
       "    </tr>\n",
       "    <tr>\n",
       "      <th>4</th>\n",
       "      <td>5</td>\n",
       "      <td>349681331</td>\n",
       "    </tr>\n",
       "  </tbody>\n",
       "</table>\n",
       "</div>"
      ],
      "text/plain": [
       "   user_id  twitter_id\n",
       "0        1   139564917\n",
       "1        2   522540374\n",
       "2        3   475571186\n",
       "3        4   215022153\n",
       "4        5   349681331"
      ]
     },
     "execution_count": 4,
     "metadata": {},
     "output_type": "execute_result"
    }
   ],
   "source": [
    "users = pd.read_parquet('data/users_clean.parquet')\n",
    "print(f'n_users = {users.shape[0]}')\n",
    "users.head()"
   ]
  },
  {
   "cell_type": "markdown",
   "metadata": {},
   "source": [
    "## Movies"
   ]
  },
  {
   "cell_type": "code",
   "execution_count": 5,
   "metadata": {},
   "outputs": [
    {
     "data": {
      "image/png": "[encoded data removed]",
      "text/plain": [
       "<Figure size 432x288 with 1 Axes>"
      ]
     },
     "metadata": {
      "needs_background": "light"
     },
     "output_type": "display_data"
    }
   ],
   "source": [
    "movies['year'].hist();"
   ]
  },
  {
   "cell_type": "code",
   "execution_count": 6,
   "metadata": {},
   "outputs": [
    {
     "data": {
      "image/png": "[encoded data removed]",
      "text/plain": [
       "<Figure size 432x288 with 1 Axes>"
      ]
     },
     "metadata": {
      "needs_background": "light"
     },
     "output_type": "display_data"
    }
   ],
   "source": [
    "ax = sns.countplot(np.concatenate(movies['genres'].dropna().values))\n",
    "ax.set_xticklabels(ax.get_xticklabels(), rotation='90');"
   ]
  },
  {
   "cell_type": "markdown",
   "metadata": {},
   "source": [
    "## Ratings"
   ]
  },
  {
   "cell_type": "code",
   "execution_count": 7,
   "metadata": {},
   "outputs": [
    {
     "data": {
      "image/png": "[encoded data removed]",
      "text/plain": [
       "<Figure size 432x288 with 1 Axes>"
      ]
     },
     "metadata": {
      "needs_background": "light"
     },
     "output_type": "display_data"
    }
   ],
   "source": [
    "ratings_user = ratings.groupby('user_id')['rating'].count()\n",
    "ratings_user.hist();"
   ]
  },
  {
   "cell_type": "code",
   "execution_count": 8,
   "metadata": {},
   "outputs": [
    {
     "data": {
      "text/plain": [
       "count    62798.000000\n",
       "mean        13.654336\n",
       "std         48.884962\n",
       "min          1.000000\n",
       "25%          1.000000\n",
       "50%          2.000000\n",
       "75%          8.000000\n",
       "max       2926.000000\n",
       "Name: rating, dtype: float64"
      ]
     },
     "execution_count": 8,
     "metadata": {},
     "output_type": "execute_result"
    }
   ],
   "source": [
    "ratings_user.describe()"
   ]
  },
  {
   "cell_type": "code",
   "execution_count": 9,
   "metadata": {},
   "outputs": [
    {
     "data": {
      "text/html": [
       "<div>\n",
       "<style scoped>\n",
       "    .dataframe tbody tr th:only-of-type {\n",
       "        vertical-align: middle;\n",
       "    }\n",
       "\n",
       "    .dataframe tbody tr th {\n",
       "        vertical-align: top;\n",
       "    }\n",
       "\n",
       "    .dataframe thead th {\n",
       "        text-align: right;\n",
       "    }\n",
       "</style>\n",
       "<table border=\"1\" class=\"dataframe\">\n",
       "  <thead>\n",
       "    <tr style=\"text-align: right;\">\n",
       "      <th></th>\n",
       "      <th>user_url</th>\n",
       "      <th>n_ratings</th>\n",
       "    </tr>\n",
       "  </thead>\n",
       "  <tbody>\n",
       "    <tr>\n",
       "      <th>23252</th>\n",
       "      <td>https://twitter.com/i/user/229985772</td>\n",
       "      <td>2926</td>\n",
       "    </tr>\n",
       "    <tr>\n",
       "      <th>12738</th>\n",
       "      <td>https://twitter.com/i/user/22832104</td>\n",
       "      <td>2075</td>\n",
       "    </tr>\n",
       "    <tr>\n",
       "      <th>36921</th>\n",
       "      <td>https://twitter.com/i/user/363853315</td>\n",
       "      <td>2058</td>\n",
       "    </tr>\n",
       "    <tr>\n",
       "      <th>46669</th>\n",
       "      <td>https://twitter.com/i/user/43349934</td>\n",
       "      <td>1858</td>\n",
       "    </tr>\n",
       "    <tr>\n",
       "      <th>61281</th>\n",
       "      <td>https://twitter.com/i/user/101459318</td>\n",
       "      <td>1606</td>\n",
       "    </tr>\n",
       "  </tbody>\n",
       "</table>\n",
       "</div>"
      ],
      "text/plain": [
       "                                   user_url  n_ratings\n",
       "23252  https://twitter.com/i/user/229985772       2926\n",
       "12738   https://twitter.com/i/user/22832104       2075\n",
       "36921  https://twitter.com/i/user/363853315       2058\n",
       "46669   https://twitter.com/i/user/43349934       1858\n",
       "61281  https://twitter.com/i/user/101459318       1606"
      ]
     },
     "execution_count": 9,
     "metadata": {},
     "output_type": "execute_result"
    }
   ],
   "source": [
    "active_users = (\n",
    "    pd.DataFrame(ratings_user)\n",
    "        .merge(users, 'left', 'user_id')\n",
    "        .drop(columns='user_id')\n",
    "        .sort_values('rating', ascending=False)\n",
    ")\n",
    "active_users = (\n",
    "    active_users\n",
    "        .drop(columns='twitter_id')\n",
    "        .join(active_users['twitter_id'].apply(user_url))\n",
    ")\n",
    "active_users = active_users[['twitter_id', 'rating']]\n",
    "active_users.columns = ['user_url', 'n_ratings']\n",
    "active_users.head()"
   ]
  },
  {
   "cell_type": "code",
   "execution_count": 10,
   "metadata": {},
   "outputs": [
    {
     "data": {
      "image/png": "[encoded data removed]",
      "text/plain": [
       "<Figure size 432x288 with 1 Axes>"
      ]
     },
     "metadata": {
      "needs_background": "light"
     },
     "output_type": "display_data"
    }
   ],
   "source": [
    "ratings_movie = ratings.groupby('imdb_id')['rating'].count()\n",
    "ratings_movie.hist();"
   ]
  },
  {
   "cell_type": "code",
   "execution_count": 11,
   "metadata": {},
   "outputs": [
    {
     "data": {
      "text/plain": [
       "count    35611.000000\n",
       "mean        24.078655\n",
       "std        111.876631\n",
       "min          1.000000\n",
       "25%          1.000000\n",
       "50%          2.000000\n",
       "75%          7.000000\n",
       "max       3086.000000\n",
       "Name: rating, dtype: float64"
      ]
     },
     "execution_count": 11,
     "metadata": {},
     "output_type": "execute_result"
    }
   ],
   "source": [
    "ratings_movie.describe()"
   ]
  },
  {
   "cell_type": "code",
   "execution_count": 12,
   "metadata": {},
   "outputs": [
    {
     "data": {
      "text/html": [
       "<div>\n",
       "<style scoped>\n",
       "    .dataframe tbody tr th:only-of-type {\n",
       "        vertical-align: middle;\n",
       "    }\n",
       "\n",
       "    .dataframe tbody tr th {\n",
       "        vertical-align: top;\n",
       "    }\n",
       "\n",
       "    .dataframe thead th {\n",
       "        text-align: right;\n",
       "    }\n",
       "</style>\n",
       "<table border=\"1\" class=\"dataframe\">\n",
       "  <thead>\n",
       "    <tr style=\"text-align: right;\">\n",
       "      <th></th>\n",
       "      <th>title</th>\n",
       "      <th>movie_url</th>\n",
       "      <th>n_ratings</th>\n",
       "    </tr>\n",
       "  </thead>\n",
       "  <tbody>\n",
       "    <tr>\n",
       "      <th>18684</th>\n",
       "      <td>Gravity</td>\n",
       "      <td>https://www.imdb.com/title/tt1454468/</td>\n",
       "      <td>3086</td>\n",
       "    </tr>\n",
       "    <tr>\n",
       "      <th>15592</th>\n",
       "      <td>Interstellar</td>\n",
       "      <td>https://www.imdb.com/title/tt0816692/</td>\n",
       "      <td>2851</td>\n",
       "    </tr>\n",
       "    <tr>\n",
       "      <th>16299</th>\n",
       "      <td>The Wolf of Wall Street</td>\n",
       "      <td>https://www.imdb.com/title/tt0993846/</td>\n",
       "      <td>2787</td>\n",
       "    </tr>\n",
       "    <tr>\n",
       "      <th>15292</th>\n",
       "      <td>Man of Steel</td>\n",
       "      <td>https://www.imdb.com/title/tt0770828/</td>\n",
       "      <td>2670</td>\n",
       "    </tr>\n",
       "    <tr>\n",
       "      <th>33748</th>\n",
       "      <td>Joker</td>\n",
       "      <td>https://www.imdb.com/title/tt7286456/</td>\n",
       "      <td>2595</td>\n",
       "    </tr>\n",
       "  </tbody>\n",
       "</table>\n",
       "</div>"
      ],
      "text/plain": [
       "                         title                              movie_url  \\\n",
       "18684                  Gravity  https://www.imdb.com/title/tt1454468/   \n",
       "15592             Interstellar  https://www.imdb.com/title/tt0816692/   \n",
       "16299  The Wolf of Wall Street  https://www.imdb.com/title/tt0993846/   \n",
       "15292             Man of Steel  https://www.imdb.com/title/tt0770828/   \n",
       "33748                    Joker  https://www.imdb.com/title/tt7286456/   \n",
       "\n",
       "       n_ratings  \n",
       "18684       3086  \n",
       "15592       2851  \n",
       "16299       2787  \n",
       "15292       2670  \n",
       "33748       2595  "
      ]
     },
     "execution_count": 12,
     "metadata": {},
     "output_type": "execute_result"
    }
   ],
   "source": [
    "active_movies = (\n",
    "    pd.DataFrame(ratings_movie)\n",
    "        .merge(movies[['imdb_id', 'title']], 'left', 'imdb_id')\n",
    "        .sort_values('rating', ascending=False)\n",
    ")\n",
    "active_movies = (\n",
    "    active_movies\n",
    "        .drop(columns='imdb_id')\n",
    "        .join(active_movies['imdb_id'].apply(movie_url))\n",
    ")\n",
    "active_movies = active_movies[['title', 'imdb_id', 'rating']]\n",
    "active_movies.columns= ['title', 'movie_url', 'n_ratings']\n",
    "active_movies.head()"
   ]
  },
  {
   "cell_type": "code",
   "execution_count": 13,
   "metadata": {},
   "outputs": [
    {
     "data": {
      "image/png": "[encoded data removed]",
      "text/plain": [
       "<Figure size 432x288 with 1 Axes>"
      ]
     },
     "metadata": {
      "needs_background": "light"
     },
     "output_type": "display_data"
    }
   ],
   "source": [
    "rating_counts = ratings.groupby('rating')['user_id'].count()\n",
    "rating_counts.plot.bar();"
   ]
  },
  {
   "cell_type": "code",
   "execution_count": 14,
   "metadata": {},
   "outputs": [
    {
     "data": {
      "text/plain": [
       "rating\n",
       "0     0.000302\n",
       "1     0.011805\n",
       "2     0.010080\n",
       "3     0.016897\n",
       "4     0.030934\n",
       "5     0.075201\n",
       "6     0.130719\n",
       "7     0.224014\n",
       "8     0.241113\n",
       "9     0.141279\n",
       "10    0.117656\n",
       "Name: user_id, dtype: float64"
      ]
     },
     "execution_count": 14,
     "metadata": {},
     "output_type": "execute_result"
    }
   ],
   "source": [
    "rating_balance = rating_counts / len(ratings)\n",
    "rating_balance"
   ]
  },
  {
   "cell_type": "code",
   "execution_count": 15,
   "metadata": {},
   "outputs": [
    {
     "data": {
      "text/plain": [
       "rating\n",
       "0     0.000302\n",
       "1     0.012107\n",
       "2     0.022186\n",
       "3     0.039084\n",
       "4     0.070018\n",
       "5     0.145219\n",
       "6     0.275938\n",
       "7     0.499952\n",
       "8     0.741065\n",
       "9     0.882344\n",
       "10    1.000000\n",
       "Name: user_id, dtype: float64"
      ]
     },
     "execution_count": 15,
     "metadata": {},
     "output_type": "execute_result"
    }
   ],
   "source": [
    "rating_balance.cumsum()"
   ]
  },
  {
   "cell_type": "code",
   "execution_count": 16,
   "metadata": {},
   "outputs": [
    {
     "data": {
      "text/plain": [
       "count    857465.000000\n",
       "mean          7.311786\n",
       "std           1.854717\n",
       "min           0.000000\n",
       "25%           6.000000\n",
       "50%           8.000000\n",
       "75%           9.000000\n",
       "max          10.000000\n",
       "Name: rating, dtype: float64"
      ]
     },
     "execution_count": 16,
     "metadata": {},
     "output_type": "execute_result"
    }
   ],
   "source": [
    "ratings['rating'].describe()"
   ]
  },
  {
   "cell_type": "code",
   "execution_count": 17,
   "metadata": {},
   "outputs": [
    {
     "data": {
      "image/png": "[encoded data removed]",
      "text/plain": [
       "<Figure size 432x288 with 1 Axes>"
      ]
     },
     "metadata": {
      "needs_background": "light"
     },
     "output_type": "display_data"
    }
   ],
   "source": [
    "ax = ratings.groupby(ratings['date_time'].dt.dayofweek)['rating'].count().plot.bar()\n",
    "ax.set_xticklabels(['Mon.', 'Tue.', 'Wed.', 'Thu.', 'Fri.', 'Sat.', 'Sun.'])\n",
    "ax.set_xlabel('Day');"
   ]
  },
  {
   "cell_type": "code",
   "execution_count": 18,
   "metadata": {},
   "outputs": [
    {
     "data": {
      "image/png": "[encoded data removed]",
      "text/plain": [
       "<Figure size 432x288 with 1 Axes>"
      ]
     },
     "metadata": {
      "needs_background": "light"
     },
     "output_type": "display_data"
    }
   ],
   "source": [
    "ax = ratings.groupby(ratings['date_time'].dt.hour)['rating'].count().plot.bar()\n",
    "ax.set_xlabel('Hour');"
   ]
  },
  {
   "cell_type": "code",
   "execution_count": 19,
   "metadata": {},
   "outputs": [
    {
     "data": {
      "text/html": [
       "<div>\n",
       "<style scoped>\n",
       "    .dataframe tbody tr th:only-of-type {\n",
       "        vertical-align: middle;\n",
       "    }\n",
       "\n",
       "    .dataframe tbody tr th {\n",
       "        vertical-align: top;\n",
       "    }\n",
       "\n",
       "    .dataframe thead th {\n",
       "        text-align: right;\n",
       "    }\n",
       "</style>\n",
       "<table border=\"1\" class=\"dataframe\">\n",
       "  <thead>\n",
       "    <tr style=\"text-align: right;\">\n",
       "      <th></th>\n",
       "      <th>title</th>\n",
       "      <th>year</th>\n",
       "      <th>genres</th>\n",
       "      <th>movie_url</th>\n",
       "      <th>mean_rating</th>\n",
       "      <th>n_ratings</th>\n",
       "    </tr>\n",
       "  </thead>\n",
       "  <tbody>\n",
       "    <tr>\n",
       "      <th>30422</th>\n",
       "      <td>MSG 2 the Messenger</td>\n",
       "      <td>2015</td>\n",
       "      <td>[comedy, drama, fantasy, horror]</td>\n",
       "      <td>https://www.imdb.com/title/tt4921860/</td>\n",
       "      <td>10.0</td>\n",
       "      <td>48</td>\n",
       "    </tr>\n",
       "    <tr>\n",
       "      <th>31092</th>\n",
       "      <td>Avengers: Age of Ultron Parody</td>\n",
       "      <td>2015</td>\n",
       "      <td>[short, comedy]</td>\n",
       "      <td>https://www.imdb.com/title/tt5262972/</td>\n",
       "      <td>10.0</td>\n",
       "      <td>28</td>\n",
       "    </tr>\n",
       "    <tr>\n",
       "      <th>33132</th>\n",
       "      <td>Five Minutes</td>\n",
       "      <td>2017</td>\n",
       "      <td>[short, comedy]</td>\n",
       "      <td>https://www.imdb.com/title/tt6662050/</td>\n",
       "      <td>10.0</td>\n",
       "      <td>22</td>\n",
       "    </tr>\n",
       "    <tr>\n",
       "      <th>25234</th>\n",
       "      <td>Selam</td>\n",
       "      <td>2013</td>\n",
       "      <td>[drama, romance]</td>\n",
       "      <td>https://www.imdb.com/title/tt2737018/</td>\n",
       "      <td>10.0</td>\n",
       "      <td>10</td>\n",
       "    </tr>\n",
       "    <tr>\n",
       "      <th>31935</th>\n",
       "      <td>Let There Be Light</td>\n",
       "      <td>2017</td>\n",
       "      <td>[drama]</td>\n",
       "      <td>https://www.imdb.com/title/tt5804314/</td>\n",
       "      <td>10.0</td>\n",
       "      <td>7</td>\n",
       "    </tr>\n",
       "    <tr>\n",
       "      <th>22994</th>\n",
       "      <td>Crawl Bitch Crawl</td>\n",
       "      <td>2012</td>\n",
       "      <td>[horror, sci_fi, thriller]</td>\n",
       "      <td>https://www.imdb.com/title/tt2219210/</td>\n",
       "      <td>10.0</td>\n",
       "      <td>6</td>\n",
       "    </tr>\n",
       "    <tr>\n",
       "      <th>24749</th>\n",
       "      <td>Quiet Riot: Well Now You're Here, There's No W...</td>\n",
       "      <td>2014</td>\n",
       "      <td>[documentary, music]</td>\n",
       "      <td>https://www.imdb.com/title/tt2560840/</td>\n",
       "      <td>10.0</td>\n",
       "      <td>6</td>\n",
       "    </tr>\n",
       "    <tr>\n",
       "      <th>18559</th>\n",
       "      <td>Romeo Juliet</td>\n",
       "      <td>2009</td>\n",
       "      <td>[drama]</td>\n",
       "      <td>https://www.imdb.com/title/tt1431149/</td>\n",
       "      <td>10.0</td>\n",
       "      <td>5</td>\n",
       "    </tr>\n",
       "    <tr>\n",
       "      <th>22046</th>\n",
       "      <td>Third Contact</td>\n",
       "      <td>2011</td>\n",
       "      <td>[drama, mystery, sci_fi, thriller]</td>\n",
       "      <td>https://www.imdb.com/title/tt2059318/</td>\n",
       "      <td>10.0</td>\n",
       "      <td>5</td>\n",
       "    </tr>\n",
       "    <tr>\n",
       "      <th>29574</th>\n",
       "      <td>Make Like a Dog</td>\n",
       "      <td>2015</td>\n",
       "      <td>[short, comedy, drama]</td>\n",
       "      <td>https://www.imdb.com/title/tt4448444/</td>\n",
       "      <td>10.0</td>\n",
       "      <td>5</td>\n",
       "    </tr>\n",
       "  </tbody>\n",
       "</table>\n",
       "</div>"
      ],
      "text/plain": [
       "                                                   title  year  \\\n",
       "30422                                MSG 2 the Messenger  2015   \n",
       "31092                     Avengers: Age of Ultron Parody  2015   \n",
       "33132                                       Five Minutes  2017   \n",
       "25234                                              Selam  2013   \n",
       "31935                                 Let There Be Light  2017   \n",
       "22994                                  Crawl Bitch Crawl  2012   \n",
       "24749  Quiet Riot: Well Now You're Here, There's No W...  2014   \n",
       "18559                                       Romeo Juliet  2009   \n",
       "22046                                      Third Contact  2011   \n",
       "29574                                    Make Like a Dog  2015   \n",
       "\n",
       "                                   genres  \\\n",
       "30422    [comedy, drama, fantasy, horror]   \n",
       "31092                     [short, comedy]   \n",
       "33132                     [short, comedy]   \n",
       "25234                    [drama, romance]   \n",
       "31935                             [drama]   \n",
       "22994          [horror, sci_fi, thriller]   \n",
       "24749                [documentary, music]   \n",
       "18559                             [drama]   \n",
       "22046  [drama, mystery, sci_fi, thriller]   \n",
       "29574              [short, comedy, drama]   \n",
       "\n",
       "                                   movie_url  mean_rating  n_ratings  \n",
       "30422  https://www.imdb.com/title/tt4921860/         10.0         48  \n",
       "31092  https://www.imdb.com/title/tt5262972/         10.0         28  \n",
       "33132  https://www.imdb.com/title/tt6662050/         10.0         22  \n",
       "25234  https://www.imdb.com/title/tt2737018/         10.0         10  \n",
       "31935  https://www.imdb.com/title/tt5804314/         10.0          7  \n",
       "22994  https://www.imdb.com/title/tt2219210/         10.0          6  \n",
       "24749  https://www.imdb.com/title/tt2560840/         10.0          6  \n",
       "18559  https://www.imdb.com/title/tt1431149/         10.0          5  \n",
       "22046  https://www.imdb.com/title/tt2059318/         10.0          5  \n",
       "29574  https://www.imdb.com/title/tt4448444/         10.0          5  "
      ]
     },
     "execution_count": 19,
     "metadata": {},
     "output_type": "execute_result"
    }
   ],
   "source": [
    "top_movies = (\n",
    "    pd\n",
    "        .DataFrame(ratings.groupby('imdb_id')['rating'].mean())\n",
    "        .join(ratings.groupby('imdb_id')['rating'].count(),lsuffix='_mean', rsuffix='_count')\n",
    "        .merge(movies, 'left', 'imdb_id')\n",
    "        .sort_values(['rating_mean', 'rating_count'], ascending=False)\n",
    ")\n",
    "top_movies = (\n",
    "    top_movies\n",
    "        .drop(columns='imdb_id')\n",
    "        .join(top_movies['imdb_id'].apply(movie_url))\n",
    ")\n",
    "top_movies = top_movies[['title', 'year', 'genres', 'imdb_id', 'rating_mean', 'rating_count']]\n",
    "top_movies.columns = ['title', 'year', 'genres', 'movie_url', 'mean_rating', 'n_ratings']\n",
    "top_movies.head(10)"
   ]
  },
  {
   "cell_type": "code",
   "execution_count": 20,
   "metadata": {},
   "outputs": [
    {
     "data": {
      "text/html": [
       "<div>\n",
       "<style scoped>\n",
       "    .dataframe tbody tr th:only-of-type {\n",
       "        vertical-align: middle;\n",
       "    }\n",
       "\n",
       "    .dataframe tbody tr th {\n",
       "        vertical-align: top;\n",
       "    }\n",
       "\n",
       "    .dataframe thead th {\n",
       "        text-align: right;\n",
       "    }\n",
       "</style>\n",
       "<table border=\"1\" class=\"dataframe\">\n",
       "  <thead>\n",
       "    <tr style=\"text-align: right;\">\n",
       "      <th></th>\n",
       "      <th>title</th>\n",
       "      <th>year</th>\n",
       "      <th>genres</th>\n",
       "      <th>movie_url</th>\n",
       "      <th>mean_rating</th>\n",
       "      <th>n_ratings</th>\n",
       "    </tr>\n",
       "  </thead>\n",
       "  <tbody>\n",
       "    <tr>\n",
       "      <th>8607</th>\n",
       "      <td>The Shawshank Redemption</td>\n",
       "      <td>1994</td>\n",
       "      <td>[drama]</td>\n",
       "      <td>https://www.imdb.com/title/tt0111161/</td>\n",
       "      <td>9.404695</td>\n",
       "      <td>1065</td>\n",
       "    </tr>\n",
       "    <tr>\n",
       "      <th>33748</th>\n",
       "      <td>Joker</td>\n",
       "      <td>2019</td>\n",
       "      <td>[crime, drama, thriller]</td>\n",
       "      <td>https://www.imdb.com/title/tt7286456/</td>\n",
       "      <td>9.124855</td>\n",
       "      <td>2595</td>\n",
       "    </tr>\n",
       "    <tr>\n",
       "      <th>29015</th>\n",
       "      <td>Avengers: Endgame</td>\n",
       "      <td>2019</td>\n",
       "      <td>[action, adventure, fantasy, sci_fi]</td>\n",
       "      <td>https://www.imdb.com/title/tt4154796/</td>\n",
       "      <td>9.043665</td>\n",
       "      <td>1397</td>\n",
       "    </tr>\n",
       "    <tr>\n",
       "      <th>15592</th>\n",
       "      <td>Interstellar</td>\n",
       "      <td>2014</td>\n",
       "      <td>[adventure, drama, sci_fi]</td>\n",
       "      <td>https://www.imdb.com/title/tt0816692/</td>\n",
       "      <td>8.829884</td>\n",
       "      <td>2851</td>\n",
       "    </tr>\n",
       "    <tr>\n",
       "      <th>29014</th>\n",
       "      <td>Avengers: Infinity War</td>\n",
       "      <td>2018</td>\n",
       "      <td>[action, adventure, sci_fi]</td>\n",
       "      <td>https://www.imdb.com/title/tt4154756/</td>\n",
       "      <td>8.764346</td>\n",
       "      <td>1307</td>\n",
       "    </tr>\n",
       "    <tr>\n",
       "      <th>22457</th>\n",
       "      <td>Hacksaw Ridge</td>\n",
       "      <td>2016</td>\n",
       "      <td>[biography, drama, history, war]</td>\n",
       "      <td>https://www.imdb.com/title/tt2119532/</td>\n",
       "      <td>8.710291</td>\n",
       "      <td>1681</td>\n",
       "    </tr>\n",
       "    <tr>\n",
       "      <th>24829</th>\n",
       "      <td>Whiplash</td>\n",
       "      <td>2014</td>\n",
       "      <td>[drama, music]</td>\n",
       "      <td>https://www.imdb.com/title/tt2582802/</td>\n",
       "      <td>8.630022</td>\n",
       "      <td>1792</td>\n",
       "    </tr>\n",
       "    <tr>\n",
       "      <th>34692</th>\n",
       "      <td>1917</td>\n",
       "      <td>2019</td>\n",
       "      <td>[drama, war]</td>\n",
       "      <td>https://www.imdb.com/title/tt8579674/</td>\n",
       "      <td>8.606120</td>\n",
       "      <td>1536</td>\n",
       "    </tr>\n",
       "    <tr>\n",
       "      <th>21125</th>\n",
       "      <td>Django Unchained</td>\n",
       "      <td>2012</td>\n",
       "      <td>[drama, western]</td>\n",
       "      <td>https://www.imdb.com/title/tt1853728/</td>\n",
       "      <td>8.590600</td>\n",
       "      <td>1617</td>\n",
       "    </tr>\n",
       "    <tr>\n",
       "      <th>33221</th>\n",
       "      <td>Gisaengchung</td>\n",
       "      <td>2019</td>\n",
       "      <td>[drama]</td>\n",
       "      <td>https://www.imdb.com/title/tt6751668/</td>\n",
       "      <td>8.547860</td>\n",
       "      <td>1285</td>\n",
       "    </tr>\n",
       "  </tbody>\n",
       "</table>\n",
       "</div>"
      ],
      "text/plain": [
       "                          title  year                                genres  \\\n",
       "8607   The Shawshank Redemption  1994                               [drama]   \n",
       "33748                     Joker  2019              [crime, drama, thriller]   \n",
       "29015         Avengers: Endgame  2019  [action, adventure, fantasy, sci_fi]   \n",
       "15592              Interstellar  2014            [adventure, drama, sci_fi]   \n",
       "29014    Avengers: Infinity War  2018           [action, adventure, sci_fi]   \n",
       "22457             Hacksaw Ridge  2016      [biography, drama, history, war]   \n",
       "24829                  Whiplash  2014                        [drama, music]   \n",
       "34692                      1917  2019                          [drama, war]   \n",
       "21125          Django Unchained  2012                      [drama, western]   \n",
       "33221              Gisaengchung  2019                               [drama]   \n",
       "\n",
       "                                   movie_url  mean_rating  n_ratings  \n",
       "8607   https://www.imdb.com/title/tt0111161/     9.404695       1065  \n",
       "33748  https://www.imdb.com/title/tt7286456/     9.124855       2595  \n",
       "29015  https://www.imdb.com/title/tt4154796/     9.043665       1397  \n",
       "15592  https://www.imdb.com/title/tt0816692/     8.829884       2851  \n",
       "29014  https://www.imdb.com/title/tt4154756/     8.764346       1307  \n",
       "22457  https://www.imdb.com/title/tt2119532/     8.710291       1681  \n",
       "24829  https://www.imdb.com/title/tt2582802/     8.630022       1792  \n",
       "34692  https://www.imdb.com/title/tt8579674/     8.606120       1536  \n",
       "21125  https://www.imdb.com/title/tt1853728/     8.590600       1617  \n",
       "33221  https://www.imdb.com/title/tt6751668/     8.547860       1285  "
      ]
     },
     "execution_count": 20,
     "metadata": {},
     "output_type": "execute_result"
    }
   ],
   "source": [
    "top_movies[top_movies['n_ratings'] >= 1000].sort_values('mean_rating', ascending=False).head(10)"
   ]
  },
  {
   "cell_type": "code",
   "execution_count": 21,
   "metadata": {},
   "outputs": [
    {
     "data": {
      "text/html": [
       "<div>\n",
       "<style scoped>\n",
       "    .dataframe tbody tr th:only-of-type {\n",
       "        vertical-align: middle;\n",
       "    }\n",
       "\n",
       "    .dataframe tbody tr th {\n",
       "        vertical-align: top;\n",
       "    }\n",
       "\n",
       "    .dataframe thead th {\n",
       "        text-align: right;\n",
       "    }\n",
       "</style>\n",
       "<table border=\"1\" class=\"dataframe\">\n",
       "  <thead>\n",
       "    <tr style=\"text-align: right;\">\n",
       "      <th></th>\n",
       "      <th>title</th>\n",
       "      <th>year</th>\n",
       "      <th>genres</th>\n",
       "      <th>movie_url</th>\n",
       "      <th>mean_rating</th>\n",
       "      <th>n_ratings</th>\n",
       "    </tr>\n",
       "  </thead>\n",
       "  <tbody>\n",
       "    <tr>\n",
       "      <th>21590</th>\n",
       "      <td>The Hangover Part III</td>\n",
       "      <td>2013</td>\n",
       "      <td>[adventure, comedy, crime]</td>\n",
       "      <td>https://www.imdb.com/title/tt1951261/</td>\n",
       "      <td>6.081818</td>\n",
       "      <td>1100</td>\n",
       "    </tr>\n",
       "    <tr>\n",
       "      <th>25549</th>\n",
       "      <td>Lucy</td>\n",
       "      <td>2014</td>\n",
       "      <td>[action, sci_fi, thriller]</td>\n",
       "      <td>https://www.imdb.com/title/tt2872732/</td>\n",
       "      <td>6.507125</td>\n",
       "      <td>1193</td>\n",
       "    </tr>\n",
       "    <tr>\n",
       "      <th>18319</th>\n",
       "      <td>Suicide Squad</td>\n",
       "      <td>2016</td>\n",
       "      <td>[action, adventure, fantasy, sci_fi]</td>\n",
       "      <td>https://www.imdb.com/title/tt1386697/</td>\n",
       "      <td>6.564557</td>\n",
       "      <td>1580</td>\n",
       "    </tr>\n",
       "    <tr>\n",
       "      <th>15667</th>\n",
       "      <td>Godzilla</td>\n",
       "      <td>2014</td>\n",
       "      <td>[action, adventure, sci_fi, thriller]</td>\n",
       "      <td>https://www.imdb.com/title/tt0831387/</td>\n",
       "      <td>6.669903</td>\n",
       "      <td>1442</td>\n",
       "    </tr>\n",
       "    <tr>\n",
       "      <th>25856</th>\n",
       "      <td>Batman v Superman: Dawn of Justice</td>\n",
       "      <td>2016</td>\n",
       "      <td>[action, adventure, fantasy, sci_fi]</td>\n",
       "      <td>https://www.imdb.com/title/tt2975590/</td>\n",
       "      <td>6.824848</td>\n",
       "      <td>1650</td>\n",
       "    </tr>\n",
       "    <tr>\n",
       "      <th>18549</th>\n",
       "      <td>The Wolverine</td>\n",
       "      <td>2013</td>\n",
       "      <td>[action, adventure, sci_fi]</td>\n",
       "      <td>https://www.imdb.com/title/tt1430132/</td>\n",
       "      <td>6.856841</td>\n",
       "      <td>1418</td>\n",
       "    </tr>\n",
       "    <tr>\n",
       "      <th>18366</th>\n",
       "      <td>It</td>\n",
       "      <td>2017</td>\n",
       "      <td>[horror, thriller]</td>\n",
       "      <td>https://www.imdb.com/title/tt1396484/</td>\n",
       "      <td>6.858114</td>\n",
       "      <td>1177</td>\n",
       "    </tr>\n",
       "    <tr>\n",
       "      <th>19125</th>\n",
       "      <td>Elysium</td>\n",
       "      <td>2013</td>\n",
       "      <td>[action, drama, sci_fi]</td>\n",
       "      <td>https://www.imdb.com/title/tt1535108/</td>\n",
       "      <td>6.920126</td>\n",
       "      <td>1590</td>\n",
       "    </tr>\n",
       "    <tr>\n",
       "      <th>17625</th>\n",
       "      <td>This Is the End</td>\n",
       "      <td>2013</td>\n",
       "      <td>[comedy, fantasy]</td>\n",
       "      <td>https://www.imdb.com/title/tt1245492/</td>\n",
       "      <td>6.977344</td>\n",
       "      <td>1280</td>\n",
       "    </tr>\n",
       "    <tr>\n",
       "      <th>18819</th>\n",
       "      <td>Oblivion</td>\n",
       "      <td>2013</td>\n",
       "      <td>[action, adventure, sci_fi]</td>\n",
       "      <td>https://www.imdb.com/title/tt1483013/</td>\n",
       "      <td>7.010017</td>\n",
       "      <td>1797</td>\n",
       "    </tr>\n",
       "  </tbody>\n",
       "</table>\n",
       "</div>"
      ],
      "text/plain": [
       "                                    title  year  \\\n",
       "21590               The Hangover Part III  2013   \n",
       "25549                                Lucy  2014   \n",
       "18319                       Suicide Squad  2016   \n",
       "15667                            Godzilla  2014   \n",
       "25856  Batman v Superman: Dawn of Justice  2016   \n",
       "18549                       The Wolverine  2013   \n",
       "18366                                  It  2017   \n",
       "19125                             Elysium  2013   \n",
       "17625                     This Is the End  2013   \n",
       "18819                            Oblivion  2013   \n",
       "\n",
       "                                      genres  \\\n",
       "21590             [adventure, comedy, crime]   \n",
       "25549             [action, sci_fi, thriller]   \n",
       "18319   [action, adventure, fantasy, sci_fi]   \n",
       "15667  [action, adventure, sci_fi, thriller]   \n",
       "25856   [action, adventure, fantasy, sci_fi]   \n",
       "18549            [action, adventure, sci_fi]   \n",
       "18366                     [horror, thriller]   \n",
       "19125                [action, drama, sci_fi]   \n",
       "17625                      [comedy, fantasy]   \n",
       "18819            [action, adventure, sci_fi]   \n",
       "\n",
       "                                   movie_url  mean_rating  n_ratings  \n",
       "21590  https://www.imdb.com/title/tt1951261/     6.081818       1100  \n",
       "25549  https://www.imdb.com/title/tt2872732/     6.507125       1193  \n",
       "18319  https://www.imdb.com/title/tt1386697/     6.564557       1580  \n",
       "15667  https://www.imdb.com/title/tt0831387/     6.669903       1442  \n",
       "25856  https://www.imdb.com/title/tt2975590/     6.824848       1650  \n",
       "18549  https://www.imdb.com/title/tt1430132/     6.856841       1418  \n",
       "18366  https://www.imdb.com/title/tt1396484/     6.858114       1177  \n",
       "19125  https://www.imdb.com/title/tt1535108/     6.920126       1590  \n",
       "17625  https://www.imdb.com/title/tt1245492/     6.977344       1280  \n",
       "18819  https://www.imdb.com/title/tt1483013/     7.010017       1797  "
      ]
     },
     "execution_count": 21,
     "metadata": {},
     "output_type": "execute_result"
    }
   ],
   "source": [
    "top_movies[top_movies['n_ratings'] >= 1000].sort_values('mean_rating').head(10)"
   ]
  },
  {
   "cell_type": "code",
   "execution_count": 22,
   "metadata": {},
   "outputs": [
    {
     "data": {
      "text/html": [
       "<div>\n",
       "<style scoped>\n",
       "    .dataframe tbody tr th:only-of-type {\n",
       "        vertical-align: middle;\n",
       "    }\n",
       "\n",
       "    .dataframe tbody tr th {\n",
       "        vertical-align: top;\n",
       "    }\n",
       "\n",
       "    .dataframe thead th {\n",
       "        text-align: right;\n",
       "    }\n",
       "</style>\n",
       "<table border=\"1\" class=\"dataframe\">\n",
       "  <thead>\n",
       "    <tr style=\"text-align: right;\">\n",
       "      <th></th>\n",
       "      <th>title</th>\n",
       "      <th>year</th>\n",
       "      <th>genres</th>\n",
       "      <th>movie_url</th>\n",
       "      <th>mean_rating</th>\n",
       "      <th>n_ratings</th>\n",
       "    </tr>\n",
       "  </thead>\n",
       "  <tbody>\n",
       "    <tr>\n",
       "      <th>9730</th>\n",
       "      <td>The Thin Red Line</td>\n",
       "      <td>1998</td>\n",
       "      <td>[drama, war]</td>\n",
       "      <td>https://www.imdb.com/title/tt0120863/</td>\n",
       "      <td>3.542969</td>\n",
       "      <td>256</td>\n",
       "    </tr>\n",
       "    <tr>\n",
       "      <th>15420</th>\n",
       "      <td>Scary Movie 5</td>\n",
       "      <td>2013</td>\n",
       "      <td>[comedy]</td>\n",
       "      <td>https://www.imdb.com/title/tt0795461/</td>\n",
       "      <td>3.808081</td>\n",
       "      <td>198</td>\n",
       "    </tr>\n",
       "    <tr>\n",
       "      <th>3599</th>\n",
       "      <td>Where Eagles Dare</td>\n",
       "      <td>1968</td>\n",
       "      <td>[action, adventure, war]</td>\n",
       "      <td>https://www.imdb.com/title/tt0065207/</td>\n",
       "      <td>4.225490</td>\n",
       "      <td>102</td>\n",
       "    </tr>\n",
       "    <tr>\n",
       "      <th>18083</th>\n",
       "      <td>Movie 43</td>\n",
       "      <td>2013</td>\n",
       "      <td>[comedy]</td>\n",
       "      <td>https://www.imdb.com/title/tt1333125/</td>\n",
       "      <td>4.267782</td>\n",
       "      <td>239</td>\n",
       "    </tr>\n",
       "    <tr>\n",
       "      <th>23553</th>\n",
       "      <td>50 tinten grijs</td>\n",
       "      <td>2015</td>\n",
       "      <td>[drama, romance, thriller]</td>\n",
       "      <td>https://www.imdb.com/title/tt2322441/</td>\n",
       "      <td>4.420323</td>\n",
       "      <td>433</td>\n",
       "    </tr>\n",
       "    <tr>\n",
       "      <th>17593</th>\n",
       "      <td>Death Note</td>\n",
       "      <td>2017</td>\n",
       "      <td>[adventure, crime, drama, fantasy, horror, mys...</td>\n",
       "      <td>https://www.imdb.com/title/tt1241317/</td>\n",
       "      <td>4.440000</td>\n",
       "      <td>275</td>\n",
       "    </tr>\n",
       "    <tr>\n",
       "      <th>16542</th>\n",
       "      <td>The Legend of Hercules</td>\n",
       "      <td>2014</td>\n",
       "      <td>[action, adventure, fantasy]</td>\n",
       "      <td>https://www.imdb.com/title/tt1043726/</td>\n",
       "      <td>4.504673</td>\n",
       "      <td>214</td>\n",
       "    </tr>\n",
       "    <tr>\n",
       "      <th>15192</th>\n",
       "      <td>Rings</td>\n",
       "      <td>2017</td>\n",
       "      <td>[drama, horror, mystery, romance, thriller]</td>\n",
       "      <td>https://www.imdb.com/title/tt0498381/</td>\n",
       "      <td>4.525862</td>\n",
       "      <td>116</td>\n",
       "    </tr>\n",
       "    <tr>\n",
       "      <th>18910</th>\n",
       "      <td>Fantastic Four</td>\n",
       "      <td>2015</td>\n",
       "      <td>[action, adventure, drama, sci_fi]</td>\n",
       "      <td>https://www.imdb.com/title/tt1502712/</td>\n",
       "      <td>4.535135</td>\n",
       "      <td>370</td>\n",
       "    </tr>\n",
       "    <tr>\n",
       "      <th>19548</th>\n",
       "      <td>Zoolander 2</td>\n",
       "      <td>2016</td>\n",
       "      <td>[comedy]</td>\n",
       "      <td>https://www.imdb.com/title/tt1608290/</td>\n",
       "      <td>4.560241</td>\n",
       "      <td>166</td>\n",
       "    </tr>\n",
       "  </tbody>\n",
       "</table>\n",
       "</div>"
      ],
      "text/plain": [
       "                        title  year  \\\n",
       "9730        The Thin Red Line  1998   \n",
       "15420           Scary Movie 5  2013   \n",
       "3599        Where Eagles Dare  1968   \n",
       "18083                Movie 43  2013   \n",
       "23553         50 tinten grijs  2015   \n",
       "17593              Death Note  2017   \n",
       "16542  The Legend of Hercules  2014   \n",
       "15192                   Rings  2017   \n",
       "18910          Fantastic Four  2015   \n",
       "19548             Zoolander 2  2016   \n",
       "\n",
       "                                                  genres  \\\n",
       "9730                                        [drama, war]   \n",
       "15420                                           [comedy]   \n",
       "3599                            [action, adventure, war]   \n",
       "18083                                           [comedy]   \n",
       "23553                         [drama, romance, thriller]   \n",
       "17593  [adventure, crime, drama, fantasy, horror, mys...   \n",
       "16542                       [action, adventure, fantasy]   \n",
       "15192        [drama, horror, mystery, romance, thriller]   \n",
       "18910                 [action, adventure, drama, sci_fi]   \n",
       "19548                                           [comedy]   \n",
       "\n",
       "                                   movie_url  mean_rating  n_ratings  \n",
       "9730   https://www.imdb.com/title/tt0120863/     3.542969        256  \n",
       "15420  https://www.imdb.com/title/tt0795461/     3.808081        198  \n",
       "3599   https://www.imdb.com/title/tt0065207/     4.225490        102  \n",
       "18083  https://www.imdb.com/title/tt1333125/     4.267782        239  \n",
       "23553  https://www.imdb.com/title/tt2322441/     4.420323        433  \n",
       "17593  https://www.imdb.com/title/tt1241317/     4.440000        275  \n",
       "16542  https://www.imdb.com/title/tt1043726/     4.504673        214  \n",
       "15192  https://www.imdb.com/title/tt0498381/     4.525862        116  \n",
       "18910  https://www.imdb.com/title/tt1502712/     4.535135        370  \n",
       "19548  https://www.imdb.com/title/tt1608290/     4.560241        166  "
      ]
     },
     "execution_count": 22,
     "metadata": {},
     "output_type": "execute_result"
    }
   ],
   "source": [
    "top_movies[top_movies['n_ratings'] >= 100].sort_values('mean_rating').head(10)"
   ]
  },
  {
   "cell_type": "markdown",
   "metadata": {},
   "source": [
    "# Conclusies\n",
    "35611 films, 857465 beoordelingen en 62798 gebruikers.\n",
    "\n",
    "## Ratings\n",
    "De gemiddelde gebruiker beoordeeld weinig films ($ \\overline{x} $ = 13,65, s = 48,88 en mediaan = 2). De gemiddelde film wordt weinig beoordeeld ($ \\overline{x} $ = 24,08, s = 111,88 en mediaan = 2). Voor beide zijn uitschieters geen anomalieën. Beoordelingen zijn hoofdzakelijk positief ($ \\overline{x} $ = 7,31, s = 1,85 en mediaan = 8). Kolom `date_time` is vermoedelijk seconden sinds Unix epoch, lokale tijd."
   ]
  }
 ],
 "metadata": {
  "kernelspec": {
   "display_name": "Python 3",
   "language": "python",
   "name": "python3"
  },
  "language_info": {
   "codemirror_mode": {
    "name": "ipython",
    "version": 3
   },
   "file_extension": ".py",
   "mimetype": "text/x-python",
   "name": "python",
   "nbconvert_exporter": "python",
   "pygments_lexer": "ipython3",
   "version": "3.8.5"
  }
 },
 "nbformat": 4,
 "nbformat_minor": 2
}
